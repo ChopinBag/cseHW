{
 "cells": [
  {
   "cell_type": "code",
   "execution_count": 66,
   "id": "initial_id",
   "metadata": {
    "ExecuteTime": {
     "end_time": "2025-05-13T02:40:45.620411Z",
     "start_time": "2025-05-13T02:40:43.030908Z"
    },
    "collapsed": true
   },
   "outputs": [],
   "source": [
    "import sklearn\n",
    "import numpy as np\n",
    "import matplotlib.pyplot as plt"
   ]
  },
  {
   "cell_type": "markdown",
   "id": "71a8ba79f5a4932e",
   "metadata": {},
   "source": [
    "## 최소자승법으로 선형회귀"
   ]
  },
  {
   "cell_type": "code",
   "execution_count": 67,
   "id": "718ba75e5d6fbf99",
   "metadata": {
    "ExecuteTime": {
     "end_time": "2025-05-13T02:40:46.315306Z",
     "start_time": "2025-05-13T02:40:46.312792Z"
    }
   },
   "outputs": [],
   "source": [
    "np.random.seed(42)  # 코드 예제를 재현 가능하게 만들기 위해\n",
    "m = 100  # 샘플 개수\n",
    "X = 2 * np.random.rand(m, 1)  # 열 벡터\n",
    "y = 4 + 3 * X + np.random.randn(m, 1)  # 열 벡터"
   ]
  },
  {
   "cell_type": "code",
   "execution_count": 68,
   "id": "29da02f69f462c86",
   "metadata": {
    "ExecuteTime": {
     "end_time": "2025-05-13T02:40:47.290221Z",
     "start_time": "2025-05-13T02:40:47.183611Z"
    }
   },
   "outputs": [
    {
     "data": {
      "image/png": "[encoded data removed]",
      "text/plain": [
       "<Figure size 600x400 with 1 Axes>"
      ]
     },
     "metadata": {},
     "output_type": "display_data"
    }
   ],
   "source": [
    "plt.figure(figsize=(6, 4))\n",
    "plt.plot(X, y, \"b.\")\n",
    "plt.xlabel(\"$x_1$\")\n",
    "plt.ylabel(\"$y$\", rotation=0)\n",
    "plt.axis([0, 2, 0, 15])\n",
    "plt.grid()\n",
    "plt.show()"
   ]
  },
  {
   "cell_type": "code",
   "execution_count": 69,
   "id": "564b34c54f75745f",
   "metadata": {
    "ExecuteTime": {
     "end_time": "2025-05-13T02:40:48.851751Z",
     "start_time": "2025-05-13T02:40:48.780411Z"
    }
   },
   "outputs": [
    {
     "data": {
      "text/plain": [
       "array([[1.        , 0.74908024],\n",
       "       [1.        , 1.90142861],\n",
       "       [1.        , 1.46398788],\n",
       "       [1.        , 1.19731697],\n",
       "       [1.        , 0.31203728],\n",
       "       [1.        , 0.31198904],\n",
       "       [1.        , 0.11616722],\n",
       "       [1.        , 1.73235229],\n",
       "       [1.        , 1.20223002],\n",
       "       [1.        , 1.41614516],\n",
       "       [1.        , 0.04116899],\n",
       "       [1.        , 1.9398197 ],\n",
       "       [1.        , 1.66488528],\n",
       "       [1.        , 0.42467822],\n",
       "       [1.        , 0.36364993],\n",
       "       [1.        , 0.36680902],\n",
       "       [1.        , 0.60848449],\n",
       "       [1.        , 1.04951286],\n",
       "       [1.        , 0.86389004],\n",
       "       [1.        , 0.58245828],\n",
       "       [1.        , 1.22370579],\n",
       "       [1.        , 0.27898772],\n",
       "       [1.        , 0.5842893 ],\n",
       "       [1.        , 0.73272369],\n",
       "       [1.        , 0.91213997],\n",
       "       [1.        , 1.57035192],\n",
       "       [1.        , 0.39934756],\n",
       "       [1.        , 1.02846888],\n",
       "       [1.        , 1.18482914],\n",
       "       [1.        , 0.09290083],\n",
       "       [1.        , 1.2150897 ],\n",
       "       [1.        , 0.34104825],\n",
       "       [1.        , 0.13010319],\n",
       "       [1.        , 1.89777107],\n",
       "       [1.        , 1.93126407],\n",
       "       [1.        , 1.6167947 ],\n",
       "       [1.        , 0.60922754],\n",
       "       [1.        , 0.19534423],\n",
       "       [1.        , 1.36846605],\n",
       "       [1.        , 0.88030499],\n",
       "       [1.        , 0.24407647],\n",
       "       [1.        , 0.99035382],\n",
       "       [1.        , 0.06877704],\n",
       "       [1.        , 1.8186408 ],\n",
       "       [1.        , 0.51755996],\n",
       "       [1.        , 1.32504457],\n",
       "       [1.        , 0.62342215],\n",
       "       [1.        , 1.04013604],\n",
       "       [1.        , 1.09342056],\n",
       "       [1.        , 0.36970891],\n",
       "       [1.        , 1.93916926],\n",
       "       [1.        , 1.55026565],\n",
       "       [1.        , 1.87899788],\n",
       "       [1.        , 1.7896547 ],\n",
       "       [1.        , 1.19579996],\n",
       "       [1.        , 1.84374847],\n",
       "       [1.        , 0.176985  ],\n",
       "       [1.        , 0.39196572],\n",
       "       [1.        , 0.09045458],\n",
       "       [1.        , 0.65066066],\n",
       "       [1.        , 0.77735458],\n",
       "       [1.        , 0.54269806],\n",
       "       [1.        , 1.65747502],\n",
       "       [1.        , 0.71350665],\n",
       "       [1.        , 0.56186902],\n",
       "       [1.        , 1.08539217],\n",
       "       [1.        , 0.28184845],\n",
       "       [1.        , 1.60439396],\n",
       "       [1.        , 0.14910129],\n",
       "       [1.        , 1.97377387],\n",
       "       [1.        , 1.54448954],\n",
       "       [1.        , 0.39743136],\n",
       "       [1.        , 0.01104423],\n",
       "       [1.        , 1.63092286],\n",
       "       [1.        , 1.41371469],\n",
       "       [1.        , 1.45801434],\n",
       "       [1.        , 1.54254069],\n",
       "       [1.        , 0.1480893 ],\n",
       "       [1.        , 0.71693146],\n",
       "       [1.        , 0.23173812],\n",
       "       [1.        , 1.72620685],\n",
       "       [1.        , 1.24659625],\n",
       "       [1.        , 0.66179605],\n",
       "       [1.        , 0.1271167 ],\n",
       "       [1.        , 0.62196464],\n",
       "       [1.        , 0.65036664],\n",
       "       [1.        , 1.45921236],\n",
       "       [1.        , 1.27511494],\n",
       "       [1.        , 1.77442549],\n",
       "       [1.        , 0.94442985],\n",
       "       [1.        , 0.23918849],\n",
       "       [1.        , 1.42648957],\n",
       "       [1.        , 1.5215701 ],\n",
       "       [1.        , 1.1225544 ],\n",
       "       [1.        , 1.54193436],\n",
       "       [1.        , 0.98759119],\n",
       "       [1.        , 1.04546566],\n",
       "       [1.        , 0.85508204],\n",
       "       [1.        , 0.05083825],\n",
       "       [1.        , 0.21578285]])"
      ]
     },
     "execution_count": 69,
     "metadata": {},
     "output_type": "execute_result"
    }
   ],
   "source": [
    "from sklearn.preprocessing import add_dummy_feature\n",
    "X_b = add_dummy_feature(X)  # 각 샘플에 x0 = 1을 추가\n",
    "X_b"
   ]
  },
  {
   "cell_type": "code",
   "execution_count": 70,
   "id": "aa501cbacd730ff9",
   "metadata": {
    "ExecuteTime": {
     "end_time": "2025-05-13T02:40:50.413573Z",
     "start_time": "2025-05-13T02:40:50.399262Z"
    }
   },
   "outputs": [
    {
     "data": {
      "text/plain": [
       "array([[4.21509616],\n",
       "       [2.77011339]])"
      ]
     },
     "execution_count": 70,
     "metadata": {},
     "output_type": "execute_result"
    }
   ],
   "source": [
    "theta_best = np.linalg.inv(X_b.T @ X_b) @ X_b.T @ y\n",
    "theta_best"
   ]
  },
  {
   "cell_type": "code",
   "execution_count": 71,
   "id": "92fa628a7765ff73",
   "metadata": {
    "ExecuteTime": {
     "end_time": "2025-05-13T02:40:51.943539Z",
     "start_time": "2025-05-13T02:40:51.940190Z"
    }
   },
   "outputs": [
    {
     "data": {
      "text/plain": [
       "array([[6.29013335],\n",
       "       [9.48226901],\n",
       "       [8.27050859],\n",
       "       [7.53179992],\n",
       "       [5.07947481],\n",
       "       [5.07934118],\n",
       "       [4.53689254],\n",
       "       [9.01390843],\n",
       "       [7.54540964],\n",
       "       [8.13797881],\n",
       "       [4.32913892],\n",
       "       [9.58861669],\n",
       "       [8.82701716],\n",
       "       [5.39150298],\n",
       "       [5.22244771],\n",
       "       [5.23119873],\n",
       "       [5.90066718],\n",
       "       [7.12236579],\n",
       "       [6.60816951],\n",
       "       [5.82857164],\n",
       "       [7.60489995],\n",
       "       [4.98792378],\n",
       "       [5.83364376],\n",
       "       [6.24482385],\n",
       "       [6.74182729],\n",
       "       [8.56514904],\n",
       "       [5.32133419],\n",
       "       [7.06407156],\n",
       "       [7.49720721],\n",
       "       [4.47244198],\n",
       "       [7.58103241],\n",
       "       [5.15983847],\n",
       "       [4.57549673],\n",
       "       [9.47213722],\n",
       "       [9.5649166 ],\n",
       "       [8.69380079],\n",
       "       [5.90272552],\n",
       "       [4.75622182],\n",
       "       [8.00590229],\n",
       "       [6.65364079],\n",
       "       [4.89121565],\n",
       "       [6.95848853],\n",
       "       [4.40561636],\n",
       "       [9.25293739],\n",
       "       [5.64879594],\n",
       "       [7.88561985],\n",
       "       [5.94204621],\n",
       "       [7.09639093],\n",
       "       [7.24399508],\n",
       "       [5.23923176],\n",
       "       [9.58681487],\n",
       "       [8.50950778],\n",
       "       [9.42013335],\n",
       "       [9.1726426 ],\n",
       "       [7.52759763],\n",
       "       [9.32248848],\n",
       "       [4.70536469],\n",
       "       [5.30088566],\n",
       "       [4.46566559],\n",
       "       [6.01749997],\n",
       "       [6.36845648],\n",
       "       [5.71843133],\n",
       "       [8.80648989],\n",
       "       [6.19159049],\n",
       "       [5.77153705],\n",
       "       [7.22175553],\n",
       "       [4.99584832],\n",
       "       [8.65944935],\n",
       "       [4.62812363],\n",
       "       [9.68267359],\n",
       "       [8.4935073 ],\n",
       "       [5.3160261 ],\n",
       "       [4.24568994],\n",
       "       [8.7329374 ],\n",
       "       [8.13124614],\n",
       "       [8.25396119],\n",
       "       [8.48810878],\n",
       "       [4.62532032],\n",
       "       [6.20107758],\n",
       "       [4.85703702],\n",
       "       [8.99688487],\n",
       "       [7.66830913],\n",
       "       [6.04834625],\n",
       "       [4.56722383],\n",
       "       [5.93800874],\n",
       "       [6.0166855 ],\n",
       "       [8.25727984],\n",
       "       [7.74730913],\n",
       "       [9.13045595],\n",
       "       [6.83127393],\n",
       "       [4.8776754 ],\n",
       "       [8.16663402],\n",
       "       [8.43001785],\n",
       "       [7.32469911],\n",
       "       [8.48642917],\n",
       "       [6.95083574],\n",
       "       [7.11115457],\n",
       "       [6.58377035],\n",
       "       [4.35592388],\n",
       "       [4.81283913]])"
      ]
     },
     "execution_count": 71,
     "metadata": {},
     "output_type": "execute_result"
    }
   ],
   "source": [
    "# X_new = np.linspace(0,2,101).reshape(101,1)\n",
    "# X_new_b = add_dummy_feature(X_new)  # 각 샘플에 x0 = 1을 추가합니다.\n",
    "y_predict = X_b @ theta_best\n",
    "y_predict"
   ]
  },
  {
   "cell_type": "code",
   "execution_count": 73,
   "id": "2aa698c646615e78",
   "metadata": {
    "ExecuteTime": {
     "end_time": "2025-05-13T02:41:00.911916Z",
     "start_time": "2025-05-13T02:41:00.825407Z"
    }
   },
   "outputs": [
    {
     "data": {
      "image/png": "[encoded data removed]",
      "text/plain": [
       "<Figure size 600x400 with 1 Axes>"
      ]
     },
     "metadata": {},
     "output_type": "display_data"
    }
   ],
   "source": [
    "plt.figure(figsize=(6, 4))  # 추가 코드\n",
    "plt.plot(X, y_predict, \"r-\", label=\"Predictions_normal_eq\")\n",
    "plt.plot(X, y, \"b.\")\n",
    "\n",
    "plt.xlabel(\"$x_1$\")\n",
    "plt.ylabel(\"$y$\", rotation=0)\n",
    "plt.axis([0, 2, 0, 15])\n",
    "plt.grid()\n",
    "plt.legend(loc=\"upper left\")\n",
    "\n",
    "plt.show()"
   ]
  },
  {
   "cell_type": "code",
   "execution_count": 77,
   "id": "57f518d79a821fde",
   "metadata": {
    "ExecuteTime": {
     "end_time": "2025-05-13T02:41:34.115369Z",
     "start_time": "2025-05-13T02:41:33.666833Z"
    }
   },
   "outputs": [
    {
     "data": {
      "text/plain": [
       "(array([4.21509616]), array([[2.77011339]]))"
      ]
     },
     "execution_count": 77,
     "metadata": {},
     "output_type": "execute_result"
    }
   ],
   "source": [
    "from sklearn.linear_model import LinearRegression\n",
    "\n",
    "lin_reg = LinearRegression()\n",
    "lin_reg.fit(X, y)\n",
    "lin_reg.intercept_, lin_reg.coef_"
   ]
  },
  {
   "cell_type": "code",
   "execution_count": 81,
   "id": "295a0de549972320",
   "metadata": {
    "ExecuteTime": {
     "end_time": "2025-05-13T02:42:03.335459Z",
     "start_time": "2025-05-13T02:42:03.330472Z"
    }
   },
   "outputs": [
    {
     "data": {
      "text/plain": [
       "array([[6.29013335],\n",
       "       [9.48226901],\n",
       "       [8.27050859],\n",
       "       [7.53179992],\n",
       "       [5.07947481],\n",
       "       [5.07934118],\n",
       "       [4.53689254],\n",
       "       [9.01390843],\n",
       "       [7.54540964],\n",
       "       [8.13797881],\n",
       "       [4.32913892],\n",
       "       [9.58861669],\n",
       "       [8.82701716],\n",
       "       [5.39150298],\n",
       "       [5.22244771],\n",
       "       [5.23119873],\n",
       "       [5.90066718],\n",
       "       [7.12236579],\n",
       "       [6.60816951],\n",
       "       [5.82857164],\n",
       "       [7.60489995],\n",
       "       [4.98792378],\n",
       "       [5.83364376],\n",
       "       [6.24482385],\n",
       "       [6.74182729],\n",
       "       [8.56514904],\n",
       "       [5.32133419],\n",
       "       [7.06407156],\n",
       "       [7.49720721],\n",
       "       [4.47244198],\n",
       "       [7.58103241],\n",
       "       [5.15983847],\n",
       "       [4.57549673],\n",
       "       [9.47213722],\n",
       "       [9.5649166 ],\n",
       "       [8.69380079],\n",
       "       [5.90272552],\n",
       "       [4.75622182],\n",
       "       [8.00590229],\n",
       "       [6.65364079],\n",
       "       [4.89121565],\n",
       "       [6.95848853],\n",
       "       [4.40561636],\n",
       "       [9.25293739],\n",
       "       [5.64879594],\n",
       "       [7.88561985],\n",
       "       [5.94204621],\n",
       "       [7.09639093],\n",
       "       [7.24399508],\n",
       "       [5.23923176],\n",
       "       [9.58681487],\n",
       "       [8.50950778],\n",
       "       [9.42013335],\n",
       "       [9.1726426 ],\n",
       "       [7.52759763],\n",
       "       [9.32248848],\n",
       "       [4.70536469],\n",
       "       [5.30088566],\n",
       "       [4.46566559],\n",
       "       [6.01749997],\n",
       "       [6.36845648],\n",
       "       [5.71843133],\n",
       "       [8.80648989],\n",
       "       [6.19159049],\n",
       "       [5.77153705],\n",
       "       [7.22175553],\n",
       "       [4.99584832],\n",
       "       [8.65944935],\n",
       "       [4.62812363],\n",
       "       [9.68267359],\n",
       "       [8.4935073 ],\n",
       "       [5.3160261 ],\n",
       "       [4.24568994],\n",
       "       [8.7329374 ],\n",
       "       [8.13124614],\n",
       "       [8.25396119],\n",
       "       [8.48810878],\n",
       "       [4.62532032],\n",
       "       [6.20107758],\n",
       "       [4.85703702],\n",
       "       [8.99688487],\n",
       "       [7.66830913],\n",
       "       [6.04834625],\n",
       "       [4.56722383],\n",
       "       [5.93800874],\n",
       "       [6.0166855 ],\n",
       "       [8.25727984],\n",
       "       [7.74730913],\n",
       "       [9.13045595],\n",
       "       [6.83127393],\n",
       "       [4.8776754 ],\n",
       "       [8.16663402],\n",
       "       [8.43001785],\n",
       "       [7.32469911],\n",
       "       [8.48642917],\n",
       "       [6.95083574],\n",
       "       [7.11115457],\n",
       "       [6.58377035],\n",
       "       [4.35592388],\n",
       "       [4.81283913]])"
      ]
     },
     "execution_count": 81,
     "metadata": {},
     "output_type": "execute_result"
    }
   ],
   "source": [
    "theta_best_sklearn = np.array([lin_reg.intercept_, lin_reg.coef_[0]])\n",
    "\n",
    "y_predict_sklearn = X_b @ theta_best_sklearn\n",
    "y_predict_sklearn"
   ]
  },
  {
   "cell_type": "code",
   "execution_count": 92,
   "id": "d024c8b62138a8d5",
   "metadata": {
    "ExecuteTime": {
     "end_time": "2025-05-13T02:44:21.935023Z",
     "start_time": "2025-05-13T02:44:21.879720Z"
    }
   },
   "outputs": [
    {
     "data": {
      "image/png": "[encoded data removed]",
      "text/plain": [
       "<Figure size 600x400 with 1 Axes>"
      ]
     },
     "metadata": {},
     "output_type": "display_data"
    }
   ],
   "source": [
    "plt.figure(figsize=(6, 4))  # 추가 코드\n",
    "plt.plot(X, y_predict_sklearn, \"g-\", label=\"Predictions_sklearn\")\n",
    "plt.plot(X, y, \"b.\")\n",
    "\n",
    "plt.xlabel(\"$x_1$\")\n",
    "plt.ylabel(\"$y$\", rotation=0)\n",
    "plt.axis([0, 2, 0, 15])\n",
    "plt.grid()\n",
    "plt.legend(loc=\"upper left\")\n",
    "\n",
    "plt.show()"
   ]
  },
  {
   "cell_type": "code",
   "execution_count": 94,
   "id": "e2073b5d7f0549b",
   "metadata": {
    "ExecuteTime": {
     "end_time": "2025-05-13T02:44:41.645727Z",
     "start_time": "2025-05-13T02:44:41.641728Z"
    }
   },
   "outputs": [
    {
     "data": {
      "text/plain": [
       "0.5429119887207148"
      ]
     },
     "execution_count": 94,
     "metadata": {},
     "output_type": "execute_result"
    }
   ],
   "source": [
    "from sklearn.metrics import median_absolute_error\n",
    "median_absolute_error(y, y_predict_sklearn)\n"
   ]
  },
  {
   "cell_type": "code",
   "execution_count": 95,
   "id": "ac495e0ba00bae27",
   "metadata": {
    "ExecuteTime": {
     "end_time": "2025-05-13T02:46:06.968112Z",
     "start_time": "2025-05-13T02:46:06.964020Z"
    }
   },
   "outputs": [
    {
     "data": {
      "text/plain": [
       "0.8065845639670531"
      ]
     },
     "execution_count": 95,
     "metadata": {},
     "output_type": "execute_result"
    }
   ],
   "source": [
    "from sklearn.metrics import mean_squared_error\n",
    "\n",
    "mean_squared_error(y, y_predict_sklearn)"
   ]
  },
  {
   "cell_type": "code",
   "execution_count": 96,
   "id": "c67f934cc9370ddc",
   "metadata": {
    "ExecuteTime": {
     "end_time": "2025-05-13T02:47:25.919710Z",
     "start_time": "2025-05-13T02:47:25.916119Z"
    }
   },
   "outputs": [
    {
     "data": {
      "text/plain": [
       "0.7692735413614223"
      ]
     },
     "execution_count": 96,
     "metadata": {},
     "output_type": "execute_result"
    }
   ],
   "source": [
    "from sklearn.metrics import r2_score\n",
    "r2_score(y, y_predict_sklearn)\n"
   ]
  },
  {
   "cell_type": "markdown",
   "id": "cdc8ff7d799b37bb",
   "metadata": {},
   "source": []
  },
  {
   "cell_type": "markdown",
   "id": "dd796855b737c566",
   "metadata": {},
   "source": [
    "### 경사하강법"
   ]
  },
  {
   "cell_type": "code",
   "execution_count": 1,
   "id": "9f6e222c5f7550c0",
   "metadata": {
    "ExecuteTime": {
     "end_time": "2025-05-13T01:31:17.487991Z",
     "start_time": "2025-05-13T01:31:16.564671Z"
    }
   },
   "outputs": [
    {
     "data": {
      "image/png": "[encoded data removed]",
      "text/plain": [
       "<Figure size 640x480 with 1 Axes>"
      ]
     },
     "metadata": {},
     "output_type": "display_data"
    }
   ],
   "source": [
    "import numpy as np\n",
    "import matplotlib.pyplot as plt\n",
    "\n",
    "x= np.arange(-10,10,1)\n",
    "f_x = x ** 2\n",
    "\n",
    "plt.plot(x, f_x)\n",
    "plt.show()"
   ]
  },
  {
   "cell_type": "code",
   "execution_count": 2,
   "id": "abd30de1f96109d5",
   "metadata": {
    "ExecuteTime": {
     "end_time": "2025-05-13T01:31:26.690854Z",
     "start_time": "2025-05-13T01:31:26.639923Z"
    }
   },
   "outputs": [
    {
     "data": {
      "image/png": "[encoded data removed]",
      "text/plain": [
       "<Figure size 640x480 with 1 Axes>"
      ]
     },
     "metadata": {},
     "output_type": "display_data"
    }
   ],
   "source": [
    "x_new = 10\n",
    "derivative = []\n",
    "y = []\n",
    "learng_rate= 0.1\n",
    "for i in range(100):\n",
    "    old_value = x_new\n",
    "    derivative.append(old_value - learng_rate * 2 * old_value)\n",
    "    x_new = old_value - learng_rate *2* old_value\n",
    "    y.append(x_new ** 2)\n",
    "plt.plot(x, f_x)\n",
    "plt.scatter(derivative, y)\n",
    "plt.show()"
   ]
  },
  {
   "cell_type": "code",
   "execution_count": 7,
   "id": "1a54550f16394177",
   "metadata": {
    "ExecuteTime": {
     "end_time": "2025-05-13T01:32:49.429522Z",
     "start_time": "2025-05-13T01:32:49.426002Z"
    }
   },
   "outputs": [
    {
     "name": "stdout",
     "output_type": "stream",
     "text": [
      "경사하강법을 이용한 y=x**2의 해:  4.1495155688809995e-18\n"
     ]
    }
   ],
   "source": [
    "print(\"경사하강법을 이용한 y=x**2의 해: \", y[-1])"
   ]
  },
  {
   "cell_type": "markdown",
   "id": "2087aad69c5ca9be",
   "metadata": {},
   "source": [
    "## 경사하강법으로 선형회귀"
   ]
  },
  {
   "cell_type": "code",
   "execution_count": 28,
   "id": "8ebbffbac349ae90",
   "metadata": {
    "ExecuteTime": {
     "end_time": "2025-05-13T02:06:26.684036Z",
     "start_time": "2025-05-13T02:06:26.681575Z"
    }
   },
   "outputs": [],
   "source": [
    "import matplotlib.pyplot as plt\n",
    "import numpy as np\n",
    "import random\n",
    "\n",
    "def gen_data(numPoints, bias, variance):\n",
    "    x = np.zeros(shape=(numPoints, 2)) \n",
    "    y = np.zeros(shape=numPoints)\n",
    "\n",
    "    for i in range(0, numPoints):\n",
    "        x[i][0] = 1 # (2) 데이터 x의 상수항에는 1\n",
    "        x[i][1] = i # (3) 데이터 x 값은 1씩 증가시킴\n",
    "        y[i] = (i+bias) + random.uniform(0, 1) * variance \n",
    "        # (4) 데이터 y에 bias 생성\n",
    "    return x, y\n",
    "x, y = gen_data(100, 25, 10) # (1) 100개의 데이터 생성\n",
    "\n"
   ]
  },
  {
   "cell_type": "code",
   "execution_count": 29,
   "id": "5ca8aabd23c1788c",
   "metadata": {
    "ExecuteTime": {
     "end_time": "2025-05-13T02:06:27.146494Z",
     "start_time": "2025-05-13T02:06:27.110563Z"
    }
   },
   "outputs": [
    {
     "data": {
      "image/png": "[encoded data removed]",
      "text/plain": [
       "<Figure size 640x480 with 1 Axes>"
      ]
     },
     "metadata": {},
     "output_type": "display_data"
    }
   ],
   "source": [
    "plt.plot(x[:,1]+1,y,\"ro\") # (5) 데이터 x와 y의 상관관계 그래프 작성\n",
    "plt.show()"
   ]
  },
  {
   "cell_type": "code",
   "execution_count": 62,
   "id": "fb469220d0c9b458",
   "metadata": {
    "ExecuteTime": {
     "end_time": "2025-05-13T02:23:09.513667Z",
     "start_time": "2025-05-13T02:23:09.505958Z"
    }
   },
   "outputs": [],
   "source": [
    "def gradient_descent(x, y, theta, alpha, m, numIterations):\n",
    "    xTrans = x.transpose() # (1)\n",
    "    theta_list = [] # (2)\n",
    "    cost_list = [] # (3)\n",
    "    for i in range(0, numIterations): # (4)\n",
    "        hypothesis = np.dot(x, theta) # (5)\n",
    "        loss = hypothesis - y # (6)\n",
    "        cost = np.sum(loss ** 2) / (m) # (7)\n",
    "        gradient = np.dot(xTrans, loss) / m # (8)\n",
    "        theta = theta - alpha * gradient # (9)\n",
    "        if i % 250 == 0: # (10)\n",
    "            theta_list.append(theta)\n",
    "            cost_list.append(cost)\n",
    "    return theta,np.array(theta_list), cost_list # (11)\n"
   ]
  },
  {
   "cell_type": "code",
   "execution_count": 63,
   "id": "2a82a5c1ccdfdeeb",
   "metadata": {
    "ExecuteTime": {
     "end_time": "2025-05-13T02:23:11.029666Z",
     "start_time": "2025-05-13T02:23:09.989429Z"
    }
   },
   "outputs": [],
   "source": [
    "m, n = np.shape(x) # (1)\n",
    "numIterations= 200000 # (2)\n",
    "alpha = 0.0006 # (3)\n",
    "theta = np.ones(n) # (4)\n",
    "\n",
    "theta,theta_list, cost_list = gradient_descent(x, y, theta, alpha, m, numIterations) # (5)"
   ]
  },
  {
   "cell_type": "code",
   "execution_count": 64,
   "id": "41ea25d75c784f1f",
   "metadata": {
    "ExecuteTime": {
     "end_time": "2025-05-13T02:23:11.095924Z",
     "start_time": "2025-05-13T02:23:11.029666Z"
    }
   },
   "outputs": [
    {
     "data": {
      "image/png": "[encoded data removed]",
      "text/plain": [
       "<Figure size 640x480 with 1 Axes>"
      ]
     },
     "metadata": {},
     "output_type": "display_data"
    }
   ],
   "source": [
    "y_predict_step= np.dot(x, theta_list.transpose())\n",
    "plt.plot(x[:,1],y,\"ro\")\n",
    "for i in range (0,20,2):\n",
    "    plt.plot(x[:,1],y_predict_step[:,i], label='Line %d'%i)\n",
    "\n",
    "plt.legend(bbox_to_anchor=(1.05, 1), loc=2, borderaxespad=0.)\n",
    "plt.show()"
   ]
  },
  {
   "cell_type": "code",
   "execution_count": 65,
   "id": "f91084e505caddb0",
   "metadata": {
    "ExecuteTime": {
     "end_time": "2025-05-13T02:23:12.054984Z",
     "start_time": "2025-05-13T02:23:12.018076Z"
    }
   },
   "outputs": [
    {
     "data": {
      "image/png": "[encoded data removed]",
      "text/plain": [
       "<Figure size 640x480 with 1 Axes>"
      ]
     },
     "metadata": {},
     "output_type": "display_data"
    }
   ],
   "source": [
    "y_predict= np.dot(x, theta)\n",
    "plt.plot(x[:,1],y,\"ro\")\n",
    "plt.plot(x[:,1],y_predict, lw=3)\n",
    "plt.show()"
   ]
  },
  {
   "cell_type": "markdown",
   "id": "15482fe17412be50",
   "metadata": {},
   "source": [
    "### 사이킷런을 이용한 선형회귀"
   ]
  },
  {
   "cell_type": "code",
   "execution_count": 105,
   "id": "9a5fa047ac6882be",
   "metadata": {
    "ExecuteTime": {
     "end_time": "2025-05-13T03:23:18.002567Z",
     "start_time": "2025-05-13T03:23:17.995372Z"
    }
   },
   "outputs": [
    {
     "data": {
      "text/plain": [
       "dict_keys(['data', 'target', 'frame', 'categories', 'feature_names', 'target_names', 'DESCR', 'details', 'url'])"
      ]
     },
     "execution_count": 105,
     "metadata": {},
     "output_type": "execute_result"
    }
   ],
   "source": [
    "from sklearn.datasets import fetch_openml\n",
    "import matplotlib.pyplot as plt\n",
    "import numpy as np\n",
    "\n",
    "boston = fetch_openml(name=\"boston\", version=1, as_frame=True)\n",
    "boston.keys()"
   ]
  },
  {
   "cell_type": "code",
   "execution_count": 107,
   "id": "3c6975d9520ed510",
   "metadata": {
    "ExecuteTime": {
     "end_time": "2025-05-13T03:23:26.958566Z",
     "start_time": "2025-05-13T03:23:26.950397Z"
    }
   },
   "outputs": [
    {
     "data": {
      "text/html": [
       "<div>\n",
       "<style scoped>\n",
       "    .dataframe tbody tr th:only-of-type {\n",
       "        vertical-align: middle;\n",
       "    }\n",
       "\n",
       "    .dataframe tbody tr th {\n",
       "        vertical-align: top;\n",
       "    }\n",
       "\n",
       "    .dataframe thead th {\n",
       "        text-align: right;\n",
       "    }\n",
       "</style>\n",
       "<table border=\"1\" class=\"dataframe\">\n",
       "  <thead>\n",
       "    <tr style=\"text-align: right;\">\n",
       "      <th></th>\n",
       "      <th>CRIM</th>\n",
       "      <th>ZN</th>\n",
       "      <th>INDUS</th>\n",
       "      <th>CHAS</th>\n",
       "      <th>NOX</th>\n",
       "      <th>RM</th>\n",
       "      <th>AGE</th>\n",
       "      <th>DIS</th>\n",
       "      <th>RAD</th>\n",
       "      <th>TAX</th>\n",
       "      <th>PTRATIO</th>\n",
       "      <th>B</th>\n",
       "      <th>LSTAT</th>\n",
       "    </tr>\n",
       "  </thead>\n",
       "  <tbody>\n",
       "    <tr>\n",
       "      <th>0</th>\n",
       "      <td>0.00632</td>\n",
       "      <td>18.0</td>\n",
       "      <td>2.31</td>\n",
       "      <td>0</td>\n",
       "      <td>0.538</td>\n",
       "      <td>6.575</td>\n",
       "      <td>65.2</td>\n",
       "      <td>4.0900</td>\n",
       "      <td>1</td>\n",
       "      <td>296.0</td>\n",
       "      <td>15.3</td>\n",
       "      <td>396.90</td>\n",
       "      <td>4.98</td>\n",
       "    </tr>\n",
       "    <tr>\n",
       "      <th>1</th>\n",
       "      <td>0.02731</td>\n",
       "      <td>0.0</td>\n",
       "      <td>7.07</td>\n",
       "      <td>0</td>\n",
       "      <td>0.469</td>\n",
       "      <td>6.421</td>\n",
       "      <td>78.9</td>\n",
       "      <td>4.9671</td>\n",
       "      <td>2</td>\n",
       "      <td>242.0</td>\n",
       "      <td>17.8</td>\n",
       "      <td>396.90</td>\n",
       "      <td>9.14</td>\n",
       "    </tr>\n",
       "    <tr>\n",
       "      <th>2</th>\n",
       "      <td>0.02729</td>\n",
       "      <td>0.0</td>\n",
       "      <td>7.07</td>\n",
       "      <td>0</td>\n",
       "      <td>0.469</td>\n",
       "      <td>7.185</td>\n",
       "      <td>61.1</td>\n",
       "      <td>4.9671</td>\n",
       "      <td>2</td>\n",
       "      <td>242.0</td>\n",
       "      <td>17.8</td>\n",
       "      <td>392.83</td>\n",
       "      <td>4.03</td>\n",
       "    </tr>\n",
       "    <tr>\n",
       "      <th>3</th>\n",
       "      <td>0.03237</td>\n",
       "      <td>0.0</td>\n",
       "      <td>2.18</td>\n",
       "      <td>0</td>\n",
       "      <td>0.458</td>\n",
       "      <td>6.998</td>\n",
       "      <td>45.8</td>\n",
       "      <td>6.0622</td>\n",
       "      <td>3</td>\n",
       "      <td>222.0</td>\n",
       "      <td>18.7</td>\n",
       "      <td>394.63</td>\n",
       "      <td>2.94</td>\n",
       "    </tr>\n",
       "    <tr>\n",
       "      <th>4</th>\n",
       "      <td>0.06905</td>\n",
       "      <td>0.0</td>\n",
       "      <td>2.18</td>\n",
       "      <td>0</td>\n",
       "      <td>0.458</td>\n",
       "      <td>7.147</td>\n",
       "      <td>54.2</td>\n",
       "      <td>6.0622</td>\n",
       "      <td>3</td>\n",
       "      <td>222.0</td>\n",
       "      <td>18.7</td>\n",
       "      <td>396.90</td>\n",
       "      <td>5.33</td>\n",
       "    </tr>\n",
       "    <tr>\n",
       "      <th>...</th>\n",
       "      <td>...</td>\n",
       "      <td>...</td>\n",
       "      <td>...</td>\n",
       "      <td>...</td>\n",
       "      <td>...</td>\n",
       "      <td>...</td>\n",
       "      <td>...</td>\n",
       "      <td>...</td>\n",
       "      <td>...</td>\n",
       "      <td>...</td>\n",
       "      <td>...</td>\n",
       "      <td>...</td>\n",
       "      <td>...</td>\n",
       "    </tr>\n",
       "    <tr>\n",
       "      <th>501</th>\n",
       "      <td>0.06263</td>\n",
       "      <td>0.0</td>\n",
       "      <td>11.93</td>\n",
       "      <td>0</td>\n",
       "      <td>0.573</td>\n",
       "      <td>6.593</td>\n",
       "      <td>69.1</td>\n",
       "      <td>2.4786</td>\n",
       "      <td>1</td>\n",
       "      <td>273.0</td>\n",
       "      <td>21.0</td>\n",
       "      <td>391.99</td>\n",
       "      <td>9.67</td>\n",
       "    </tr>\n",
       "    <tr>\n",
       "      <th>502</th>\n",
       "      <td>0.04527</td>\n",
       "      <td>0.0</td>\n",
       "      <td>11.93</td>\n",
       "      <td>0</td>\n",
       "      <td>0.573</td>\n",
       "      <td>6.120</td>\n",
       "      <td>76.7</td>\n",
       "      <td>2.2875</td>\n",
       "      <td>1</td>\n",
       "      <td>273.0</td>\n",
       "      <td>21.0</td>\n",
       "      <td>396.90</td>\n",
       "      <td>9.08</td>\n",
       "    </tr>\n",
       "    <tr>\n",
       "      <th>503</th>\n",
       "      <td>0.06076</td>\n",
       "      <td>0.0</td>\n",
       "      <td>11.93</td>\n",
       "      <td>0</td>\n",
       "      <td>0.573</td>\n",
       "      <td>6.976</td>\n",
       "      <td>91.0</td>\n",
       "      <td>2.1675</td>\n",
       "      <td>1</td>\n",
       "      <td>273.0</td>\n",
       "      <td>21.0</td>\n",
       "      <td>396.90</td>\n",
       "      <td>5.64</td>\n",
       "    </tr>\n",
       "    <tr>\n",
       "      <th>504</th>\n",
       "      <td>0.10959</td>\n",
       "      <td>0.0</td>\n",
       "      <td>11.93</td>\n",
       "      <td>0</td>\n",
       "      <td>0.573</td>\n",
       "      <td>6.794</td>\n",
       "      <td>89.3</td>\n",
       "      <td>2.3889</td>\n",
       "      <td>1</td>\n",
       "      <td>273.0</td>\n",
       "      <td>21.0</td>\n",
       "      <td>393.45</td>\n",
       "      <td>6.48</td>\n",
       "    </tr>\n",
       "    <tr>\n",
       "      <th>505</th>\n",
       "      <td>0.04741</td>\n",
       "      <td>0.0</td>\n",
       "      <td>11.93</td>\n",
       "      <td>0</td>\n",
       "      <td>0.573</td>\n",
       "      <td>6.030</td>\n",
       "      <td>80.8</td>\n",
       "      <td>2.5050</td>\n",
       "      <td>1</td>\n",
       "      <td>273.0</td>\n",
       "      <td>21.0</td>\n",
       "      <td>396.90</td>\n",
       "      <td>7.88</td>\n",
       "    </tr>\n",
       "  </tbody>\n",
       "</table>\n",
       "<p>506 rows × 13 columns</p>\n",
       "</div>"
      ],
      "text/plain": [
       "        CRIM    ZN  INDUS CHAS    NOX     RM   AGE     DIS RAD    TAX  \\\n",
       "0    0.00632  18.0   2.31    0  0.538  6.575  65.2  4.0900   1  296.0   \n",
       "1    0.02731   0.0   7.07    0  0.469  6.421  78.9  4.9671   2  242.0   \n",
       "2    0.02729   0.0   7.07    0  0.469  7.185  61.1  4.9671   2  242.0   \n",
       "3    0.03237   0.0   2.18    0  0.458  6.998  45.8  6.0622   3  222.0   \n",
       "4    0.06905   0.0   2.18    0  0.458  7.147  54.2  6.0622   3  222.0   \n",
       "..       ...   ...    ...  ...    ...    ...   ...     ...  ..    ...   \n",
       "501  0.06263   0.0  11.93    0  0.573  6.593  69.1  2.4786   1  273.0   \n",
       "502  0.04527   0.0  11.93    0  0.573  6.120  76.7  2.2875   1  273.0   \n",
       "503  0.06076   0.0  11.93    0  0.573  6.976  91.0  2.1675   1  273.0   \n",
       "504  0.10959   0.0  11.93    0  0.573  6.794  89.3  2.3889   1  273.0   \n",
       "505  0.04741   0.0  11.93    0  0.573  6.030  80.8  2.5050   1  273.0   \n",
       "\n",
       "     PTRATIO       B  LSTAT  \n",
       "0       15.3  396.90   4.98  \n",
       "1       17.8  396.90   9.14  \n",
       "2       17.8  392.83   4.03  \n",
       "3       18.7  394.63   2.94  \n",
       "4       18.7  396.90   5.33  \n",
       "..       ...     ...    ...  \n",
       "501     21.0  391.99   9.67  \n",
       "502     21.0  396.90   9.08  \n",
       "503     21.0  396.90   5.64  \n",
       "504     21.0  393.45   6.48  \n",
       "505     21.0  396.90   7.88  \n",
       "\n",
       "[506 rows x 13 columns]"
      ]
     },
     "execution_count": 107,
     "metadata": {},
     "output_type": "execute_result"
    }
   ],
   "source": [
    "boston[\"data\"]"
   ]
  },
  {
   "cell_type": "code",
   "execution_count": 155,
   "id": "a9a9991985425085",
   "metadata": {
    "ExecuteTime": {
     "end_time": "2025-05-13T03:42:20.675472Z",
     "start_time": "2025-05-13T03:42:20.664862Z"
    }
   },
   "outputs": [
    {
     "data": {
      "text/plain": [
       "(506, 1)"
      ]
     },
     "execution_count": 155,
     "metadata": {},
     "output_type": "execute_result"
    }
   ],
   "source": [
    "x_data =  np.array(boston.data).astype(float)\n",
    "y_data = np.array(boston.target).reshape(-1, 1)\n",
    "y_data.shape"
   ]
  },
  {
   "cell_type": "code",
   "execution_count": 156,
   "id": "584a7ee58e99027c",
   "metadata": {
    "ExecuteTime": {
     "end_time": "2025-05-13T03:42:21.198644Z",
     "start_time": "2025-05-13T03:42:21.182611Z"
    }
   },
   "outputs": [
    {
     "data": {
      "text/plain": [
       "array([[0.00000000e+00, 9.00000000e-01, 3.39076246e-01, 0.00000000e+00,\n",
       "        1.57407407e+00, 2.88752635e+00, 3.20803296e+00, 1.34601570e+00,\n",
       "        0.00000000e+00, 1.04007634e+00, 1.43617021e+00, 5.00000000e+00,\n",
       "        4.48399558e-01],\n",
       "       [1.17961270e-03, 0.00000000e+00, 1.21151026e+00, 0.00000000e+00,\n",
       "        8.64197531e-01, 2.73998850e+00, 3.91349125e+00, 1.74480990e+00,\n",
       "        2.17391304e-01, 5.24809160e-01, 2.76595745e+00, 5.00000000e+00,\n",
       "        1.02235099e+00],\n",
       "       [1.17848872e-03, 0.00000000e+00, 1.21151026e+00, 0.00000000e+00,\n",
       "        8.64197531e-01, 3.47192949e+00, 2.99691040e+00, 1.74480990e+00,\n",
       "        2.17391304e-01, 5.24809160e-01, 2.76595745e+00, 4.94868627e+00,\n",
       "        3.17328918e-01]])"
      ]
     },
     "execution_count": 156,
     "metadata": {},
     "output_type": "execute_result"
    }
   ],
   "source": [
    "from sklearn import preprocessing\n",
    "\n",
    "minmax_scale = preprocessing.MinMaxScaler(feature_range=(0,5)).fit(x_data) # (1)\n",
    "x_scaled_data = minmax_scale.transform(x_data) # (2)\n",
    "\n",
    "x_scaled_data[:3] "
   ]
  },
  {
   "cell_type": "code",
   "execution_count": 157,
   "id": "ac4c7e1ae84e4b6f",
   "metadata": {
    "ExecuteTime": {
     "end_time": "2025-05-13T03:42:21.601573Z",
     "start_time": "2025-05-13T03:42:21.595408Z"
    }
   },
   "outputs": [
    {
     "data": {
      "text/plain": [
       "((354, 13), (152, 13), (354, 1), (152, 1))"
      ]
     },
     "execution_count": 157,
     "metadata": {},
     "output_type": "execute_result"
    }
   ],
   "source": [
    "from sklearn.model_selection import train_test_split\n",
    "\n",
    "X_train, X_test, y_train, y_test = train_test_split(x_scaled_data, y_data, test_size=0.3)\n",
    "# X 데이터의 학습 데이터셋, X 데이터의 테스트 데이터셋\n",
    "# Y 데이터의 학습 데이터셋, Y 데이터의 테스트 데이터셋\n",
    "\n",
    "X_train.shape, X_test.shape, y_train.shape, y_test.shape"
   ]
  },
  {
   "cell_type": "code",
   "execution_count": 158,
   "id": "d1769ce0666fe39e",
   "metadata": {
    "ExecuteTime": {
     "end_time": "2025-05-13T03:42:21.949038Z",
     "start_time": "2025-05-13T03:42:21.942836Z"
    }
   },
   "outputs": [],
   "source": [
    "from sklearn import linear_model\n",
    "regr = linear_model.LinearRegression(fit_intercept=True, copy_X=True, n_jobs=8)\n",
    "lasso_regr = linear_model.Lasso(alpha=0.01, fit_intercept=True, copy_X=True)\n",
    "ridge_regr = linear_model.Ridge(alpha=0.01, fit_intercept=True, copy_X=True)\n",
    "SGD__regr = linear_model.SGDRegressor(penalty=\"l2\",alpha=0.01, max_iter=1000,tol=0.001, eta0=0.01)"
   ]
  },
  {
   "cell_type": "code",
   "execution_count": 159,
   "id": "813e42a9b34ec672",
   "metadata": {
    "ExecuteTime": {
     "end_time": "2025-05-13T03:42:22.256084Z",
     "start_time": "2025-05-13T03:42:22.252026Z"
    }
   },
   "outputs": [
    {
     "data": {
      "text/html": [
       "<style>#sk-container-id-6 {\n",
       "  /* Definition of color scheme common for light and dark mode */\n",
       "  --sklearn-color-text: #000;\n",
       "  --sklearn-color-text-muted: #666;\n",
       "  --sklearn-color-line: gray;\n",
       "  /* Definition of color scheme for unfitted estimators */\n",
       "  --sklearn-color-unfitted-level-0: #fff5e6;\n",
       "  --sklearn-color-unfitted-level-1: #f6e4d2;\n",
       "  --sklearn-color-unfitted-level-2: #ffe0b3;\n",
       "  --sklearn-color-unfitted-level-3: chocolate;\n",
       "  /* Definition of color scheme for fitted estimators */\n",
       "  --sklearn-color-fitted-level-0: #f0f8ff;\n",
       "  --sklearn-color-fitted-level-1: #d4ebff;\n",
       "  --sklearn-color-fitted-level-2: #b3dbfd;\n",
       "  --sklearn-color-fitted-level-3: cornflowerblue;\n",
       "\n",
       "  /* Specific color for light theme */\n",
       "  --sklearn-color-text-on-default-background: var(--sg-text-color, var(--theme-code-foreground, var(--jp-content-font-color1, black)));\n",
       "  --sklearn-color-background: var(--sg-background-color, var(--theme-background, var(--jp-layout-color0, white)));\n",
       "  --sklearn-color-border-box: var(--sg-text-color, var(--theme-code-foreground, var(--jp-content-font-color1, black)));\n",
       "  --sklearn-color-icon: #696969;\n",
       "\n",
       "  @media (prefers-color-scheme: dark) {\n",
       "    /* Redefinition of color scheme for dark theme */\n",
       "    --sklearn-color-text-on-default-background: var(--sg-text-color, var(--theme-code-foreground, var(--jp-content-font-color1, white)));\n",
       "    --sklearn-color-background: var(--sg-background-color, var(--theme-background, var(--jp-layout-color0, #111)));\n",
       "    --sklearn-color-border-box: var(--sg-text-color, var(--theme-code-foreground, var(--jp-content-font-color1, white)));\n",
       "    --sklearn-color-icon: #878787;\n",
       "  }\n",
       "}\n",
       "\n",
       "#sk-container-id-6 {\n",
       "  color: var(--sklearn-color-text);\n",
       "}\n",
       "\n",
       "#sk-container-id-6 pre {\n",
       "  padding: 0;\n",
       "}\n",
       "\n",
       "#sk-container-id-6 input.sk-hidden--visually {\n",
       "  border: 0;\n",
       "  clip: rect(1px 1px 1px 1px);\n",
       "  clip: rect(1px, 1px, 1px, 1px);\n",
       "  height: 1px;\n",
       "  margin: -1px;\n",
       "  overflow: hidden;\n",
       "  padding: 0;\n",
       "  position: absolute;\n",
       "  width: 1px;\n",
       "}\n",
       "\n",
       "#sk-container-id-6 div.sk-dashed-wrapped {\n",
       "  border: 1px dashed var(--sklearn-color-line);\n",
       "  margin: 0 0.4em 0.5em 0.4em;\n",
       "  box-sizing: border-box;\n",
       "  padding-bottom: 0.4em;\n",
       "  background-color: var(--sklearn-color-background);\n",
       "}\n",
       "\n",
       "#sk-container-id-6 div.sk-container {\n",
       "  /* jupyter's `normalize.less` sets `[hidden] { display: none; }`\n",
       "     but bootstrap.min.css set `[hidden] { display: none !important; }`\n",
       "     so we also need the `!important` here to be able to override the\n",
       "     default hidden behavior on the sphinx rendered scikit-learn.org.\n",
       "     See: https://github.com/scikit-learn/scikit-learn/issues/21755 */\n",
       "  display: inline-block !important;\n",
       "  position: relative;\n",
       "}\n",
       "\n",
       "#sk-container-id-6 div.sk-text-repr-fallback {\n",
       "  display: none;\n",
       "}\n",
       "\n",
       "div.sk-parallel-item,\n",
       "div.sk-serial,\n",
       "div.sk-item {\n",
       "  /* draw centered vertical line to link estimators */\n",
       "  background-image: linear-gradient(var(--sklearn-color-text-on-default-background), var(--sklearn-color-text-on-default-background));\n",
       "  background-size: 2px 100%;\n",
       "  background-repeat: no-repeat;\n",
       "  background-position: center center;\n",
       "}\n",
       "\n",
       "/* Parallel-specific style estimator block */\n",
       "\n",
       "#sk-container-id-6 div.sk-parallel-item::after {\n",
       "  content: \"\";\n",
       "  width: 100%;\n",
       "  border-bottom: 2px solid var(--sklearn-color-text-on-default-background);\n",
       "  flex-grow: 1;\n",
       "}\n",
       "\n",
       "#sk-container-id-6 div.sk-parallel {\n",
       "  display: flex;\n",
       "  align-items: stretch;\n",
       "  justify-content: center;\n",
       "  background-color: var(--sklearn-color-background);\n",
       "  position: relative;\n",
       "}\n",
       "\n",
       "#sk-container-id-6 div.sk-parallel-item {\n",
       "  display: flex;\n",
       "  flex-direction: column;\n",
       "}\n",
       "\n",
       "#sk-container-id-6 div.sk-parallel-item:first-child::after {\n",
       "  align-self: flex-end;\n",
       "  width: 50%;\n",
       "}\n",
       "\n",
       "#sk-container-id-6 div.sk-parallel-item:last-child::after {\n",
       "  align-self: flex-start;\n",
       "  width: 50%;\n",
       "}\n",
       "\n",
       "#sk-container-id-6 div.sk-parallel-item:only-child::after {\n",
       "  width: 0;\n",
       "}\n",
       "\n",
       "/* Serial-specific style estimator block */\n",
       "\n",
       "#sk-container-id-6 div.sk-serial {\n",
       "  display: flex;\n",
       "  flex-direction: column;\n",
       "  align-items: center;\n",
       "  background-color: var(--sklearn-color-background);\n",
       "  padding-right: 1em;\n",
       "  padding-left: 1em;\n",
       "}\n",
       "\n",
       "\n",
       "/* Toggleable style: style used for estimator/Pipeline/ColumnTransformer box that is\n",
       "clickable and can be expanded/collapsed.\n",
       "- Pipeline and ColumnTransformer use this feature and define the default style\n",
       "- Estimators will overwrite some part of the style using the `sk-estimator` class\n",
       "*/\n",
       "\n",
       "/* Pipeline and ColumnTransformer style (default) */\n",
       "\n",
       "#sk-container-id-6 div.sk-toggleable {\n",
       "  /* Default theme specific background. It is overwritten whether we have a\n",
       "  specific estimator or a Pipeline/ColumnTransformer */\n",
       "  background-color: var(--sklearn-color-background);\n",
       "}\n",
       "\n",
       "/* Toggleable label */\n",
       "#sk-container-id-6 label.sk-toggleable__label {\n",
       "  cursor: pointer;\n",
       "  display: flex;\n",
       "  width: 100%;\n",
       "  margin-bottom: 0;\n",
       "  padding: 0.5em;\n",
       "  box-sizing: border-box;\n",
       "  text-align: center;\n",
       "  align-items: start;\n",
       "  justify-content: space-between;\n",
       "  gap: 0.5em;\n",
       "}\n",
       "\n",
       "#sk-container-id-6 label.sk-toggleable__label .caption {\n",
       "  font-size: 0.6rem;\n",
       "  font-weight: lighter;\n",
       "  color: var(--sklearn-color-text-muted);\n",
       "}\n",
       "\n",
       "#sk-container-id-6 label.sk-toggleable__label-arrow:before {\n",
       "  /* Arrow on the left of the label */\n",
       "  content: \"▸\";\n",
       "  float: left;\n",
       "  margin-right: 0.25em;\n",
       "  color: var(--sklearn-color-icon);\n",
       "}\n",
       "\n",
       "#sk-container-id-6 label.sk-toggleable__label-arrow:hover:before {\n",
       "  color: var(--sklearn-color-text);\n",
       "}\n",
       "\n",
       "/* Toggleable content - dropdown */\n",
       "\n",
       "#sk-container-id-6 div.sk-toggleable__content {\n",
       "  max-height: 0;\n",
       "  max-width: 0;\n",
       "  overflow: hidden;\n",
       "  text-align: left;\n",
       "  /* unfitted */\n",
       "  background-color: var(--sklearn-color-unfitted-level-0);\n",
       "}\n",
       "\n",
       "#sk-container-id-6 div.sk-toggleable__content.fitted {\n",
       "  /* fitted */\n",
       "  background-color: var(--sklearn-color-fitted-level-0);\n",
       "}\n",
       "\n",
       "#sk-container-id-6 div.sk-toggleable__content pre {\n",
       "  margin: 0.2em;\n",
       "  border-radius: 0.25em;\n",
       "  color: var(--sklearn-color-text);\n",
       "  /* unfitted */\n",
       "  background-color: var(--sklearn-color-unfitted-level-0);\n",
       "}\n",
       "\n",
       "#sk-container-id-6 div.sk-toggleable__content.fitted pre {\n",
       "  /* unfitted */\n",
       "  background-color: var(--sklearn-color-fitted-level-0);\n",
       "}\n",
       "\n",
       "#sk-container-id-6 input.sk-toggleable__control:checked~div.sk-toggleable__content {\n",
       "  /* Expand drop-down */\n",
       "  max-height: 200px;\n",
       "  max-width: 100%;\n",
       "  overflow: auto;\n",
       "}\n",
       "\n",
       "#sk-container-id-6 input.sk-toggleable__control:checked~label.sk-toggleable__label-arrow:before {\n",
       "  content: \"▾\";\n",
       "}\n",
       "\n",
       "/* Pipeline/ColumnTransformer-specific style */\n",
       "\n",
       "#sk-container-id-6 div.sk-label input.sk-toggleable__control:checked~label.sk-toggleable__label {\n",
       "  color: var(--sklearn-color-text);\n",
       "  background-color: var(--sklearn-color-unfitted-level-2);\n",
       "}\n",
       "\n",
       "#sk-container-id-6 div.sk-label.fitted input.sk-toggleable__control:checked~label.sk-toggleable__label {\n",
       "  background-color: var(--sklearn-color-fitted-level-2);\n",
       "}\n",
       "\n",
       "/* Estimator-specific style */\n",
       "\n",
       "/* Colorize estimator box */\n",
       "#sk-container-id-6 div.sk-estimator input.sk-toggleable__control:checked~label.sk-toggleable__label {\n",
       "  /* unfitted */\n",
       "  background-color: var(--sklearn-color-unfitted-level-2);\n",
       "}\n",
       "\n",
       "#sk-container-id-6 div.sk-estimator.fitted input.sk-toggleable__control:checked~label.sk-toggleable__label {\n",
       "  /* fitted */\n",
       "  background-color: var(--sklearn-color-fitted-level-2);\n",
       "}\n",
       "\n",
       "#sk-container-id-6 div.sk-label label.sk-toggleable__label,\n",
       "#sk-container-id-6 div.sk-label label {\n",
       "  /* The background is the default theme color */\n",
       "  color: var(--sklearn-color-text-on-default-background);\n",
       "}\n",
       "\n",
       "/* On hover, darken the color of the background */\n",
       "#sk-container-id-6 div.sk-label:hover label.sk-toggleable__label {\n",
       "  color: var(--sklearn-color-text);\n",
       "  background-color: var(--sklearn-color-unfitted-level-2);\n",
       "}\n",
       "\n",
       "/* Label box, darken color on hover, fitted */\n",
       "#sk-container-id-6 div.sk-label.fitted:hover label.sk-toggleable__label.fitted {\n",
       "  color: var(--sklearn-color-text);\n",
       "  background-color: var(--sklearn-color-fitted-level-2);\n",
       "}\n",
       "\n",
       "/* Estimator label */\n",
       "\n",
       "#sk-container-id-6 div.sk-label label {\n",
       "  font-family: monospace;\n",
       "  font-weight: bold;\n",
       "  display: inline-block;\n",
       "  line-height: 1.2em;\n",
       "}\n",
       "\n",
       "#sk-container-id-6 div.sk-label-container {\n",
       "  text-align: center;\n",
       "}\n",
       "\n",
       "/* Estimator-specific */\n",
       "#sk-container-id-6 div.sk-estimator {\n",
       "  font-family: monospace;\n",
       "  border: 1px dotted var(--sklearn-color-border-box);\n",
       "  border-radius: 0.25em;\n",
       "  box-sizing: border-box;\n",
       "  margin-bottom: 0.5em;\n",
       "  /* unfitted */\n",
       "  background-color: var(--sklearn-color-unfitted-level-0);\n",
       "}\n",
       "\n",
       "#sk-container-id-6 div.sk-estimator.fitted {\n",
       "  /* fitted */\n",
       "  background-color: var(--sklearn-color-fitted-level-0);\n",
       "}\n",
       "\n",
       "/* on hover */\n",
       "#sk-container-id-6 div.sk-estimator:hover {\n",
       "  /* unfitted */\n",
       "  background-color: var(--sklearn-color-unfitted-level-2);\n",
       "}\n",
       "\n",
       "#sk-container-id-6 div.sk-estimator.fitted:hover {\n",
       "  /* fitted */\n",
       "  background-color: var(--sklearn-color-fitted-level-2);\n",
       "}\n",
       "\n",
       "/* Specification for estimator info (e.g. \"i\" and \"?\") */\n",
       "\n",
       "/* Common style for \"i\" and \"?\" */\n",
       "\n",
       ".sk-estimator-doc-link,\n",
       "a:link.sk-estimator-doc-link,\n",
       "a:visited.sk-estimator-doc-link {\n",
       "  float: right;\n",
       "  font-size: smaller;\n",
       "  line-height: 1em;\n",
       "  font-family: monospace;\n",
       "  background-color: var(--sklearn-color-background);\n",
       "  border-radius: 1em;\n",
       "  height: 1em;\n",
       "  width: 1em;\n",
       "  text-decoration: none !important;\n",
       "  margin-left: 0.5em;\n",
       "  text-align: center;\n",
       "  /* unfitted */\n",
       "  border: var(--sklearn-color-unfitted-level-1) 1pt solid;\n",
       "  color: var(--sklearn-color-unfitted-level-1);\n",
       "}\n",
       "\n",
       ".sk-estimator-doc-link.fitted,\n",
       "a:link.sk-estimator-doc-link.fitted,\n",
       "a:visited.sk-estimator-doc-link.fitted {\n",
       "  /* fitted */\n",
       "  border: var(--sklearn-color-fitted-level-1) 1pt solid;\n",
       "  color: var(--sklearn-color-fitted-level-1);\n",
       "}\n",
       "\n",
       "/* On hover */\n",
       "div.sk-estimator:hover .sk-estimator-doc-link:hover,\n",
       ".sk-estimator-doc-link:hover,\n",
       "div.sk-label-container:hover .sk-estimator-doc-link:hover,\n",
       ".sk-estimator-doc-link:hover {\n",
       "  /* unfitted */\n",
       "  background-color: var(--sklearn-color-unfitted-level-3);\n",
       "  color: var(--sklearn-color-background);\n",
       "  text-decoration: none;\n",
       "}\n",
       "\n",
       "div.sk-estimator.fitted:hover .sk-estimator-doc-link.fitted:hover,\n",
       ".sk-estimator-doc-link.fitted:hover,\n",
       "div.sk-label-container:hover .sk-estimator-doc-link.fitted:hover,\n",
       ".sk-estimator-doc-link.fitted:hover {\n",
       "  /* fitted */\n",
       "  background-color: var(--sklearn-color-fitted-level-3);\n",
       "  color: var(--sklearn-color-background);\n",
       "  text-decoration: none;\n",
       "}\n",
       "\n",
       "/* Span, style for the box shown on hovering the info icon */\n",
       ".sk-estimator-doc-link span {\n",
       "  display: none;\n",
       "  z-index: 9999;\n",
       "  position: relative;\n",
       "  font-weight: normal;\n",
       "  right: .2ex;\n",
       "  padding: .5ex;\n",
       "  margin: .5ex;\n",
       "  width: min-content;\n",
       "  min-width: 20ex;\n",
       "  max-width: 50ex;\n",
       "  color: var(--sklearn-color-text);\n",
       "  box-shadow: 2pt 2pt 4pt #999;\n",
       "  /* unfitted */\n",
       "  background: var(--sklearn-color-unfitted-level-0);\n",
       "  border: .5pt solid var(--sklearn-color-unfitted-level-3);\n",
       "}\n",
       "\n",
       ".sk-estimator-doc-link.fitted span {\n",
       "  /* fitted */\n",
       "  background: var(--sklearn-color-fitted-level-0);\n",
       "  border: var(--sklearn-color-fitted-level-3);\n",
       "}\n",
       "\n",
       ".sk-estimator-doc-link:hover span {\n",
       "  display: block;\n",
       "}\n",
       "\n",
       "/* \"?\"-specific style due to the `<a>` HTML tag */\n",
       "\n",
       "#sk-container-id-6 a.estimator_doc_link {\n",
       "  float: right;\n",
       "  font-size: 1rem;\n",
       "  line-height: 1em;\n",
       "  font-family: monospace;\n",
       "  background-color: var(--sklearn-color-background);\n",
       "  border-radius: 1rem;\n",
       "  height: 1rem;\n",
       "  width: 1rem;\n",
       "  text-decoration: none;\n",
       "  /* unfitted */\n",
       "  color: var(--sklearn-color-unfitted-level-1);\n",
       "  border: var(--sklearn-color-unfitted-level-1) 1pt solid;\n",
       "}\n",
       "\n",
       "#sk-container-id-6 a.estimator_doc_link.fitted {\n",
       "  /* fitted */\n",
       "  border: var(--sklearn-color-fitted-level-1) 1pt solid;\n",
       "  color: var(--sklearn-color-fitted-level-1);\n",
       "}\n",
       "\n",
       "/* On hover */\n",
       "#sk-container-id-6 a.estimator_doc_link:hover {\n",
       "  /* unfitted */\n",
       "  background-color: var(--sklearn-color-unfitted-level-3);\n",
       "  color: var(--sklearn-color-background);\n",
       "  text-decoration: none;\n",
       "}\n",
       "\n",
       "#sk-container-id-6 a.estimator_doc_link.fitted:hover {\n",
       "  /* fitted */\n",
       "  background-color: var(--sklearn-color-fitted-level-3);\n",
       "}\n",
       "</style><div id=\"sk-container-id-6\" class=\"sk-top-container\"><div class=\"sk-text-repr-fallback\"><pre>LinearRegression(n_jobs=8)</pre><b>In a Jupyter environment, please rerun this cell to show the HTML representation or trust the notebook. <br />On GitHub, the HTML representation is unable to render, please try loading this page with nbviewer.org.</b></div><div class=\"sk-container\" hidden><div class=\"sk-item\"><div class=\"sk-estimator fitted sk-toggleable\"><input class=\"sk-toggleable__control sk-hidden--visually\" id=\"sk-estimator-id-6\" type=\"checkbox\" checked><label for=\"sk-estimator-id-6\" class=\"sk-toggleable__label fitted sk-toggleable__label-arrow\"><div><div>LinearRegression</div></div><div><a class=\"sk-estimator-doc-link fitted\" rel=\"noreferrer\" target=\"_blank\" href=\"https://scikit-learn.org/1.6/modules/generated/sklearn.linear_model.LinearRegression.html\">?<span>Documentation for LinearRegression</span></a><span class=\"sk-estimator-doc-link fitted\">i<span>Fitted</span></span></div></label><div class=\"sk-toggleable__content fitted\"><pre>LinearRegression(n_jobs=8)</pre></div> </div></div></div></div>"
      ],
      "text/plain": [
       "LinearRegression(n_jobs=8)"
      ]
     },
     "execution_count": 159,
     "metadata": {},
     "output_type": "execute_result"
    }
   ],
   "source": [
    "regr.fit(X_train, y_train) "
   ]
  },
  {
   "cell_type": "code",
   "execution_count": 160,
   "id": "628a63c510daa62e",
   "metadata": {
    "ExecuteTime": {
     "end_time": "2025-05-13T03:42:22.665710Z",
     "start_time": "2025-05-13T03:42:22.649992Z"
    }
   },
   "outputs": [
    {
     "name": "stdout",
     "output_type": "stream",
     "text": [
      "Coefficients:  [[-2.10778147  1.36334832  0.29374805  0.65863587 -2.13954921  2.96380644\n",
      "   0.35275418 -3.49595853  1.48803266 -1.26842157 -1.90671923  0.77179449\n",
      "  -4.16057487]]\n",
      "intercept:  [29.2115898]\n"
     ]
    }
   ],
   "source": [
    "print('Coefficients: ', regr.coef_)\n",
    "print('intercept: ', regr.intercept_)"
   ]
  },
  {
   "cell_type": "code",
   "execution_count": 161,
   "id": "bc6b629702b4d6bc",
   "metadata": {
    "ExecuteTime": {
     "end_time": "2025-05-13T03:42:23.209449Z",
     "start_time": "2025-05-13T03:42:23.205817Z"
    }
   },
   "outputs": [
    {
     "data": {
      "text/plain": [
       "array([[-36.07783509],\n",
       "       [ -9.89846892],\n",
       "       [  4.20623088],\n",
       "       [ 24.06750877],\n",
       "       [ 19.20313721]])"
      ]
     },
     "execution_count": 161,
     "metadata": {},
     "output_type": "execute_result"
    }
   ],
   "source": [
    "regr.predict(x_data[:5])"
   ]
  },
  {
   "cell_type": "code",
   "execution_count": 162,
   "id": "3366d4ca8590de44",
   "metadata": {
    "ExecuteTime": {
     "end_time": "2025-05-13T03:42:23.797568Z",
     "start_time": "2025-05-13T03:42:23.793607Z"
    }
   },
   "outputs": [
    {
     "data": {
      "text/plain": [
       "array([[-36.07783509],\n",
       "       [ -9.89846892],\n",
       "       [  4.20623088],\n",
       "       [ 24.06750877],\n",
       "       [ 19.20313721]])"
      ]
     },
     "execution_count": 162,
     "metadata": {},
     "output_type": "execute_result"
    }
   ],
   "source": [
    "x_data[:5].dot(regr.coef_.T) + regr.intercept_"
   ]
  },
  {
   "cell_type": "code",
   "execution_count": 169,
   "id": "cbd1aaf15077f880",
   "metadata": {
    "ExecuteTime": {
     "end_time": "2025-05-13T03:44:14.513630Z",
     "start_time": "2025-05-13T03:44:14.509925Z"
    }
   },
   "outputs": [
    {
     "data": {
      "text/plain": [
       "(0.7803698512779852, 3.0857679845277626, 17.32426794881395)"
      ]
     },
     "execution_count": 169,
     "metadata": {},
     "output_type": "execute_result"
    }
   ],
   "source": [
    "from sklearn.metrics import r2_score\n",
    "from sklearn.metrics import mean_absolute_error\n",
    "from sklearn.metrics import mean_squared_error\n",
    "y_true = y_test.copy()\n",
    "y_hat = regr.predict(X_test)\n",
    "\n",
    "r2_score(y_true, y_hat), mean_absolute_error(y_true, y_hat), mean_squared_error(y_true, y_hat)"
   ]
  },
  {
   "cell_type": "code",
   "execution_count": 173,
   "id": "ff1bed544c21cff6",
   "metadata": {
    "ExecuteTime": {
     "end_time": "2025-05-13T03:45:49.427347Z",
     "start_time": "2025-05-13T03:45:49.360006Z"
    }
   },
   "outputs": [
    {
     "data": {
      "image/png": "[encoded data removed]",
      "text/plain": [
       "<Figure size 600x600 with 1 Axes>"
      ]
     },
     "metadata": {},
     "output_type": "display_data"
    }
   ],
   "source": [
    "plt.figure(figsize=(6, 6))\n",
    "plt.scatter(y_true, y_hat, s=10, alpha=0.7, label=\"Predicted vs Actual\")\n",
    "plt.plot([y_true.min(), y_true.max()], [y_true.min(), y_true.max()], 'r--', lw=2, label=\"Perfect Prediction (y = x)\")\n",
    "plt.ylabel(r\"Predicted prices: $\\hat{y}_i$\")\n",
    "plt.title(r\"Prices vs Predicted prices: $y_i$ vs $\\hat{y}_i$\")\n",
    "plt.legend(loc=\"upper left\")\n",
    "plt.grid(True)\n",
    "plt.axis(\"equal\")  # x축과 y축 비율 맞추기\n",
    "plt.show()"
   ]
  },
  {
   "cell_type": "code",
   "execution_count": null,
   "id": "29d9a9fccdfa7d77",
   "metadata": {},
   "outputs": [],
   "source": []
  }
 ],
 "metadata": {
  "kernelspec": {
   "display_name": "base",
   "language": "python",
   "name": "python3"
  },
  "language_info": {
   "codemirror_mode": {
    "name": "ipython",
    "version": 2
   },
   "file_extension": ".py",
   "mimetype": "text/x-python",
   "name": "python",
   "nbconvert_exporter": "python",
   "pygments_lexer": "ipython2",
   "version": "3.11.8"
  }
 },
 "nbformat": 4,
 "nbformat_minor": 5
}
