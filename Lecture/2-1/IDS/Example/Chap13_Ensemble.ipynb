{
 "cells": [
  {
   "cell_type": "markdown",
   "id": "d51f6f98963dfcff",
   "metadata": {},
   "source": [
    "## 투표 분류기"
   ]
  },
  {
   "cell_type": "code",
   "execution_count": 4,
   "id": "initial_id",
   "metadata": {
    "ExecuteTime": {
     "end_time": "2025-06-05T01:01:48.168583Z",
     "start_time": "2025-06-05T01:01:48.165091Z"
    },
    "collapsed": true
   },
   "outputs": [],
   "source": [
    "import numpy as np\n",
    "from sklearn.tree import DecisionTreeClassifier\n",
    "from sklearn.linear_model import LogisticRegression\n",
    "from sklearn.naive_bayes import GaussianNB\n",
    "from sklearn.ensemble import VotingClassifier"
   ]
  },
  {
   "cell_type": "code",
   "execution_count": 5,
   "id": "12285a0ae8c752d8",
   "metadata": {
    "ExecuteTime": {
     "end_time": "2025-06-05T01:01:48.636858Z",
     "start_time": "2025-06-05T01:01:48.634219Z"
    }
   },
   "outputs": [],
   "source": [
    "X = np.load(\"data_ML/Ensemble_titanic_X_train.npy\")\n",
    "y = np.load(\"data_ML/Ensemble_titanic_y_train.npy\")"
   ]
  },
  {
   "cell_type": "code",
   "execution_count": 6,
   "id": "facd775006b55ca6",
   "metadata": {
    "ExecuteTime": {
     "end_time": "2025-06-05T01:02:03.504395Z",
     "start_time": "2025-06-05T01:02:03.500298Z"
    }
   },
   "outputs": [
    {
     "data": {
      "text/plain": [
       "array([0.27345609, 0.01415106, 0.        , 1.        , 0.        ,\n",
       "       0.125     , 0.        , 0.        , 0.        , 1.        ,\n",
       "       0.        , 0.        , 0.        , 0.        , 0.        ,\n",
       "       1.        , 0.        , 0.        , 1.        , 0.        ,\n",
       "       0.        , 0.        , 0.        , 0.        , 0.        ,\n",
       "       0.        , 0.        ])"
      ]
     },
     "execution_count": 6,
     "metadata": {},
     "output_type": "execute_result"
    }
   ],
   "source": [
    "X[0]"
   ]
  },
  {
   "cell_type": "code",
   "execution_count": 7,
   "id": "29bab572b62b7c77",
   "metadata": {
    "ExecuteTime": {
     "end_time": "2025-06-05T01:02:07.807800Z",
     "start_time": "2025-06-05T01:02:07.803794Z"
    }
   },
   "outputs": [
    {
     "data": {
      "text/plain": [
       "array([0., 1., 1., 1., 0., 0., 0., 0., 1., 1.])"
      ]
     },
     "execution_count": 7,
     "metadata": {},
     "output_type": "execute_result"
    }
   ],
   "source": [
    "y[:10]"
   ]
  },
  {
   "cell_type": "code",
   "execution_count": 9,
   "id": "b7ff55d52b60af32",
   "metadata": {
    "ExecuteTime": {
     "end_time": "2025-06-05T01:02:19.950472Z",
     "start_time": "2025-06-05T01:02:19.947883Z"
    }
   },
   "outputs": [],
   "source": [
    "clf1 = LogisticRegression(random_state=1)\n",
    "clf2 = DecisionTreeClassifier(random_state=1, max_depth=4)\n",
    "clf3 = GaussianNB()\n",
    "\n",
    "eclf = VotingClassifier(\n",
    " estimators=[('lr', clf1), ('rf', clf2), ('gnb',clf3)], voting='hard')"
   ]
  },
  {
   "cell_type": "code",
   "execution_count": 10,
   "id": "a4df7f231dbb049f",
   "metadata": {
    "ExecuteTime": {
     "end_time": "2025-06-05T01:02:27.152048Z",
     "start_time": "2025-06-05T01:02:27.040205Z"
    }
   },
   "outputs": [
    {
     "data": {
      "text/plain": [
       "np.float64(0.8222941661905668)"
      ]
     },
     "execution_count": 10,
     "metadata": {},
     "output_type": "execute_result"
    }
   ],
   "source": [
    "from sklearn.model_selection import cross_val_score\n",
    "cross_val_score(eclf, X, y, cv=5).mean()"
   ]
  },
  {
   "cell_type": "code",
   "execution_count": 11,
   "id": "5cae984a956483ca",
   "metadata": {
    "ExecuteTime": {
     "end_time": "2025-06-05T01:02:33.225409Z",
     "start_time": "2025-06-05T01:02:33.190206Z"
    }
   },
   "outputs": [
    {
     "data": {
      "text/plain": [
       "np.float64(0.8290420872214816)"
      ]
     },
     "execution_count": 11,
     "metadata": {},
     "output_type": "execute_result"
    }
   ],
   "source": [
    "cross_val_score(clf1, X, y, cv=5).mean()"
   ]
  },
  {
   "cell_type": "code",
   "execution_count": 12,
   "id": "b0d1fabe537cf91e",
   "metadata": {
    "ExecuteTime": {
     "end_time": "2025-06-05T01:02:38.812765Z",
     "start_time": "2025-06-05T01:02:38.801401Z"
    }
   },
   "outputs": [
    {
     "data": {
      "text/plain": [
       "np.float64(0.8223068621849807)"
      ]
     },
     "execution_count": 12,
     "metadata": {},
     "output_type": "execute_result"
    }
   ],
   "source": [
    "cross_val_score(clf2, X, y, cv=5).mean()"
   ]
  },
  {
   "cell_type": "code",
   "execution_count": 13,
   "id": "8043dfb40472f420",
   "metadata": {
    "ExecuteTime": {
     "end_time": "2025-06-05T01:02:43.301872Z",
     "start_time": "2025-06-05T01:02:43.292495Z"
    }
   },
   "outputs": [
    {
     "data": {
      "text/plain": [
       "np.float64(0.4600139655938551)"
      ]
     },
     "execution_count": 13,
     "metadata": {},
     "output_type": "execute_result"
    }
   ],
   "source": [
    "cross_val_score(clf3, X, y, cv=5).mean()"
   ]
  },
  {
   "cell_type": "code",
   "execution_count": 14,
   "id": "97176ed8baf1e18c",
   "metadata": {
    "ExecuteTime": {
     "end_time": "2025-06-05T01:03:18.065191Z",
     "start_time": "2025-06-05T01:03:18.023259Z"
    }
   },
   "outputs": [
    {
     "data": {
      "text/plain": [
       "np.float64(0.8301783787215135)"
      ]
     },
     "execution_count": 14,
     "metadata": {},
     "output_type": "execute_result"
    }
   ],
   "source": [
    "eclf = VotingClassifier(\n",
    "    estimators=[('lr', clf1), ('rf', clf2)], voting='hard')\n",
    "cross_val_score(eclf, X, y, cv=5).mean()"
   ]
  },
  {
   "cell_type": "markdown",
   "id": "7f7d26cfdfe977d8",
   "metadata": {},
   "source": [
    "### 하이퍼 매개변수를 튜닝한 투표 분류기"
   ]
  },
  {
   "cell_type": "code",
   "execution_count": 17,
   "id": "f6c8720028430e8d",
   "metadata": {
    "ExecuteTime": {
     "end_time": "2025-06-05T01:12:58.570449Z",
     "start_time": "2025-06-05T01:12:58.567935Z"
    }
   },
   "outputs": [],
   "source": [
    "clf1 = LogisticRegression(random_state=1)\n",
    "clf2 = DecisionTreeClassifier(random_state=1)\n",
    "eclf = VotingClassifier(estimators=[('lr', clf1), ('dt', clf2)], voting='hard')"
   ]
  },
  {
   "cell_type": "code",
   "execution_count": 18,
   "id": "da823ddf5f38b842",
   "metadata": {
    "ExecuteTime": {
     "end_time": "2025-06-05T01:13:08.358827Z",
     "start_time": "2025-06-05T01:13:08.355481Z"
    }
   },
   "outputs": [],
   "source": [
    "c_params = [0.1, 5.0, 7.0, 10.0, 15.0, 20.0, 100.0]\n",
    "\n",
    "params ={\n",
    "    \"lr__solver\" : \n",
    "        ['liblinear'], \"lr__penalty\" : [\"l2\"], \"lr__C\" : c_params,\n",
    "    \"dt__criterion\" : [\"gini\", \"entropy\"],\n",
    "    \"dt__max_depth\" : [10,8,7,6,5,4,3,2],\n",
    "    \"dt__min_samples_leaf\": [1,2,3,4,5,6,7,8,9]\n",
    "    }\n"
   ]
  },
  {
   "cell_type": "code",
   "execution_count": 19,
   "id": "d1cd2460e76c9fde",
   "metadata": {
    "ExecuteTime": {
     "end_time": "2025-06-05T01:13:46.310601Z",
     "start_time": "2025-06-05T01:13:26.462841Z"
    }
   },
   "outputs": [
    {
     "data": {
      "text/plain": [
       "np.float64(0.8425569732749316)"
      ]
     },
     "execution_count": 19,
     "metadata": {},
     "output_type": "execute_result"
    }
   ],
   "source": [
    "from sklearn.model_selection import GridSearchCV\n",
    "grid = GridSearchCV(estimator=eclf, param_grid=params, cv=5)\n",
    "grid = grid.fit(X, y)\n",
    "grid.best_score_"
   ]
  },
  {
   "cell_type": "code",
   "execution_count": null,
   "id": "61f7f8ab81d85d7c",
   "metadata": {},
   "outputs": [],
   "source": [
    "grid.best_params_"
   ]
  },
  {
   "cell_type": "markdown",
   "id": "6eadf74faa623b08",
   "metadata": {},
   "source": [
    "## 배깅 "
   ]
  },
  {
   "cell_type": "code",
   "execution_count": 65,
   "id": "97f20d51cdf05e7a",
   "metadata": {
    "ExecuteTime": {
     "end_time": "2025-06-05T02:57:36.201307Z",
     "start_time": "2025-06-05T02:57:33.812618Z"
    }
   },
   "outputs": [
    {
     "data": {
      "text/plain": [
       "np.float64(0.8279184917158637)"
      ]
     },
     "execution_count": 65,
     "metadata": {},
     "output_type": "execute_result"
    }
   ],
   "source": [
    "import numpy as np\n",
    "\n",
    "from sklearn.tree import DecisionTreeClassifier\n",
    "from sklearn.linear_model import LogisticRegression\n",
    "from sklearn.ensemble import BaggingClassifier\n",
    "\n",
    "X = np.load(\"data_ML/Ensemble_titanic_X_train.npy\")\n",
    "y = np.load(\"data_ML/Ensemble_titanic_y_train.npy\")\n",
    "clf1 = LogisticRegression(random_state=1)\n",
    "eclf = BaggingClassifier(clf1, n_estimators=100, random_state=1)\n",
    "\n",
    "from sklearn.model_selection import cross_val_score\n",
    "cross_val_score(eclf, X, y, cv=5).mean() \n"
   ]
  },
  {
   "cell_type": "code",
   "execution_count": 66,
   "id": "655340e9079e3f38",
   "metadata": {
    "ExecuteTime": {
     "end_time": "2025-06-05T02:57:36.203924Z",
     "start_time": "2025-06-05T02:57:36.201307Z"
    }
   },
   "outputs": [],
   "source": [
    "params ={\n",
    "    \"n_estimators\" : [10,20,30,40,50,55],\n",
    "    \"max_samples\" : [0.5,0.6,0.7,0.8,0.9,1] \n",
    "}\n"
   ]
  },
  {
   "cell_type": "code",
   "execution_count": 67,
   "id": "1a6749905fdb070e",
   "metadata": {
    "ExecuteTime": {
     "end_time": "2025-06-05T02:58:01.279314Z",
     "start_time": "2025-06-05T02:57:36.203924Z"
    }
   },
   "outputs": [],
   "source": [
    "from sklearn.model_selection import GridSearchCV\n",
    "grid = GridSearchCV(estimator=eclf, param_grid=params, cv=5)\n",
    "grid = grid.fit(X, y)"
   ]
  },
  {
   "cell_type": "code",
   "execution_count": 68,
   "id": "1696d2b3f4d58b34",
   "metadata": {
    "ExecuteTime": {
     "end_time": "2025-06-05T02:58:01.283962Z",
     "start_time": "2025-06-05T02:58:01.279314Z"
    }
   },
   "outputs": [
    {
     "name": "stdout",
     "output_type": "stream",
     "text": [
      "Best score: 0.8279184917158636\n",
      "Best params: {'max_samples': 0.9, 'n_estimators': 30}\n"
     ]
    }
   ],
   "source": [
    "print(\"Best score:\", grid.best_score_)\n",
    "print(\"Best params:\", grid.best_params_)"
   ]
  },
  {
   "cell_type": "code",
   "execution_count": 69,
   "id": "32b7998dc305980a",
   "metadata": {
    "ExecuteTime": {
     "end_time": "2025-06-05T02:58:01.445844Z",
     "start_time": "2025-06-05T02:58:01.283962Z"
    }
   },
   "outputs": [
    {
     "name": "stdout",
     "output_type": "stream",
     "text": [
      "OOB score: 0.8323959505061868\n"
     ]
    }
   ],
   "source": [
    "# OOB 평가\n",
    "best_model = grid.best_estimator_\n",
    "best_model.set_params(oob_score=True)\n",
    "best_model.fit(X, y)\n",
    "print(\"OOB score:\", best_model.oob_score_)"
   ]
  },
  {
   "cell_type": "markdown",
   "id": "9ae55832a3404da1",
   "metadata": {},
   "source": [
    "### 랜덤포레스트"
   ]
  },
  {
   "cell_type": "code",
   "execution_count": 70,
   "id": "f661271a82be7b48",
   "metadata": {
    "ExecuteTime": {
     "end_time": "2025-06-05T02:58:01.908498Z",
     "start_time": "2025-06-05T02:58:01.445844Z"
    }
   },
   "outputs": [
    {
     "data": {
      "text/plain": [
       "np.float64(0.8020694470894434)"
      ]
     },
     "execution_count": 70,
     "metadata": {},
     "output_type": "execute_result"
    }
   ],
   "source": [
    "import numpy as np\n",
    "from sklearn.ensemble import RandomForestClassifier\n",
    "X = np.load(\"data_ML/Ensemble_titanic_X_train.npy\")\n",
    "y = np.load(\"data_ML/Ensemble_titanic_y_train.npy\")\n",
    "eclf = RandomForestClassifier(n_estimators=100, max_features=2, n_jobs=7)\n",
    "from sklearn.model_selection import cross_val_score\n",
    "cross_val_score(eclf, X, y, cv=5).mean()"
   ]
  },
  {
   "cell_type": "code",
   "execution_count": 71,
   "id": "c8874c11cc064508",
   "metadata": {
    "ExecuteTime": {
     "end_time": "2025-06-05T02:58:01.911506Z",
     "start_time": "2025-06-05T02:58:01.908498Z"
    }
   },
   "outputs": [],
   "source": [
    "from sklearn.model_selection import GridSearchCV\n",
    "\n",
    "params ={\n",
    "    \"n_estimators\" : [10, 20, 30, 50, 100],\n",
    "    \"max_features\" : [1,2,3,4,5,6,7, 10, 15, 20, 25, len(X[0])]\n",
    "    }\n"
   ]
  },
  {
   "cell_type": "code",
   "execution_count": 72,
   "id": "f3bad35318882484",
   "metadata": {
    "ExecuteTime": {
     "end_time": "2025-06-05T02:58:17.438067Z",
     "start_time": "2025-06-05T02:58:01.911506Z"
    }
   },
   "outputs": [],
   "source": [
    "grid = GridSearchCV(estimator=eclf, param_grid=params, cv=5)\n",
    "grid = grid.fit(X, y)"
   ]
  },
  {
   "cell_type": "code",
   "execution_count": 73,
   "id": "b97e83a3ed134665",
   "metadata": {
    "ExecuteTime": {
     "end_time": "2025-06-05T02:58:17.441151Z",
     "start_time": "2025-06-05T02:58:17.438067Z"
    }
   },
   "outputs": [
    {
     "name": "stdout",
     "output_type": "stream",
     "text": [
      "Best score: 0.829073827207516\n",
      "Best params: {'max_features': 27, 'n_estimators': 30}\n"
     ]
    }
   ],
   "source": [
    "print(\"Best score:\", grid.best_score_)\n",
    "print(\"Best params:\", grid.best_params_)"
   ]
  },
  {
   "cell_type": "code",
   "execution_count": 74,
   "id": "51b7a656dfd8a50e",
   "metadata": {
    "ExecuteTime": {
     "end_time": "2025-06-05T02:58:17.485880Z",
     "start_time": "2025-06-05T02:58:17.441151Z"
    }
   },
   "outputs": [
    {
     "name": "stdout",
     "output_type": "stream",
     "text": [
      "OOB score: 0.8188976377952756\n"
     ]
    }
   ],
   "source": [
    "# OOB score 확인\n",
    "best_model = grid.best_estimator_\n",
    "best_model.set_params(oob_score=True)\n",
    "best_model.fit(X, y)\n",
    "\n",
    "print(\"OOB score:\", best_model.oob_score_)"
   ]
  },
  {
   "cell_type": "markdown",
   "id": "75d1a032e5acfb56",
   "metadata": {},
   "source": [
    "### 에이다부스트 "
   ]
  },
  {
   "cell_type": "code",
   "execution_count": 75,
   "id": "11e538c08d5c0762",
   "metadata": {
    "ExecuteTime": {
     "end_time": "2025-06-05T03:15:29.768604Z",
     "start_time": "2025-06-05T03:15:29.765022Z"
    }
   },
   "outputs": [],
   "source": [
    "import numpy as np\n",
    "X = np.load(\"data_ML/Ensemble_titanic_X_train.npy\")\n",
    "y = np.load(\"data_ML/Ensemble_titanic_y_train.npy\")"
   ]
  },
  {
   "cell_type": "code",
   "execution_count": 77,
   "id": "51ad2f13bbd13a4f",
   "metadata": {
    "ExecuteTime": {
     "end_time": "2025-06-05T03:16:23.482064Z",
     "start_time": "2025-06-05T03:16:23.479562Z"
    }
   },
   "outputs": [],
   "source": [
    "from sklearn.ensemble import AdaBoostClassifier\n",
    "from sklearn.tree import DecisionTreeClassifier\n",
    "\n",
    "eclf = AdaBoostClassifier(estimator=DecisionTreeClassifier(max_depth=2), n_estimators=500)"
   ]
  },
  {
   "cell_type": "code",
   "execution_count": 78,
   "id": "b8d6279c60871e1a",
   "metadata": {
    "ExecuteTime": {
     "end_time": "2025-06-05T03:16:34.225598Z",
     "start_time": "2025-06-05T03:16:31.703872Z"
    }
   },
   "outputs": [
    {
     "data": {
      "text/plain": [
       "np.float64(0.8279248397130706)"
      ]
     },
     "execution_count": 78,
     "metadata": {},
     "output_type": "execute_result"
    }
   ],
   "source": [
    "from sklearn.model_selection import cross_val_score\n",
    "cross_val_score(eclf, X, y, cv=5).mean()"
   ]
  },
  {
   "cell_type": "code",
   "execution_count": 79,
   "id": "a901506030ee32ec",
   "metadata": {
    "ExecuteTime": {
     "end_time": "2025-06-05T03:17:00.602223Z",
     "start_time": "2025-06-05T03:16:58.478045Z"
    }
   },
   "outputs": [
    {
     "data": {
      "text/plain": [
       "np.float64(0.7998222560782073)"
      ]
     },
     "execution_count": 79,
     "metadata": {},
     "output_type": "execute_result"
    }
   ],
   "source": [
    "from sklearn.ensemble import RandomForestClassifier\n",
    "eclf = RandomForestClassifier(n_estimators=500)\n",
    "cross_val_score(eclf, X, y, cv=5).mean()"
   ]
  },
  {
   "cell_type": "code",
   "execution_count": 81,
   "id": "48c815e4c065a12b",
   "metadata": {
    "ExecuteTime": {
     "end_time": "2025-06-05T03:17:39.707459Z",
     "start_time": "2025-06-05T03:17:39.704167Z"
    }
   },
   "outputs": [],
   "source": [
    "eclf = AdaBoostClassifier(estimator=DecisionTreeClassifier(max_depth=2), n_estimators=500)"
   ]
  },
  {
   "cell_type": "code",
   "execution_count": 83,
   "id": "9ea46f5559573e0c",
   "metadata": {
    "ExecuteTime": {
     "end_time": "2025-06-05T03:20:18.324776Z",
     "start_time": "2025-06-05T03:20:18.322660Z"
    }
   },
   "outputs": [],
   "source": [
    "params = {\n",
    "    \"estimator__criterion\": [\"gini\", \"entropy\"],\n",
    "    \"estimator__max_features\": [7, 8],\n",
    "    \"estimator__max_depth\": [1, 2],\n",
    "    \"n_estimators\": [23, 24, 25, 26, 27],\n",
    "    \"learning_rate\": [0.4, 0.45, 0.5, 0.55, 0.6]\n",
    "}"
   ]
  },
  {
   "cell_type": "code",
   "execution_count": 86,
   "id": "4ba79a46319e2f64",
   "metadata": {
    "ExecuteTime": {
     "end_time": "2025-06-05T03:20:47.577324Z",
     "start_time": "2025-06-05T03:20:44.067733Z"
    }
   },
   "outputs": [
    {
     "data": {
      "text/html": [
       "<style>#sk-container-id-2 {\n",
       "  /* Definition of color scheme common for light and dark mode */\n",
       "  --sklearn-color-text: #000;\n",
       "  --sklearn-color-text-muted: #666;\n",
       "  --sklearn-color-line: gray;\n",
       "  /* Definition of color scheme for unfitted estimators */\n",
       "  --sklearn-color-unfitted-level-0: #fff5e6;\n",
       "  --sklearn-color-unfitted-level-1: #f6e4d2;\n",
       "  --sklearn-color-unfitted-level-2: #ffe0b3;\n",
       "  --sklearn-color-unfitted-level-3: chocolate;\n",
       "  /* Definition of color scheme for fitted estimators */\n",
       "  --sklearn-color-fitted-level-0: #f0f8ff;\n",
       "  --sklearn-color-fitted-level-1: #d4ebff;\n",
       "  --sklearn-color-fitted-level-2: #b3dbfd;\n",
       "  --sklearn-color-fitted-level-3: cornflowerblue;\n",
       "\n",
       "  /* Specific color for light theme */\n",
       "  --sklearn-color-text-on-default-background: var(--sg-text-color, var(--theme-code-foreground, var(--jp-content-font-color1, black)));\n",
       "  --sklearn-color-background: var(--sg-background-color, var(--theme-background, var(--jp-layout-color0, white)));\n",
       "  --sklearn-color-border-box: var(--sg-text-color, var(--theme-code-foreground, var(--jp-content-font-color1, black)));\n",
       "  --sklearn-color-icon: #696969;\n",
       "\n",
       "  @media (prefers-color-scheme: dark) {\n",
       "    /* Redefinition of color scheme for dark theme */\n",
       "    --sklearn-color-text-on-default-background: var(--sg-text-color, var(--theme-code-foreground, var(--jp-content-font-color1, white)));\n",
       "    --sklearn-color-background: var(--sg-background-color, var(--theme-background, var(--jp-layout-color0, #111)));\n",
       "    --sklearn-color-border-box: var(--sg-text-color, var(--theme-code-foreground, var(--jp-content-font-color1, white)));\n",
       "    --sklearn-color-icon: #878787;\n",
       "  }\n",
       "}\n",
       "\n",
       "#sk-container-id-2 {\n",
       "  color: var(--sklearn-color-text);\n",
       "}\n",
       "\n",
       "#sk-container-id-2 pre {\n",
       "  padding: 0;\n",
       "}\n",
       "\n",
       "#sk-container-id-2 input.sk-hidden--visually {\n",
       "  border: 0;\n",
       "  clip: rect(1px 1px 1px 1px);\n",
       "  clip: rect(1px, 1px, 1px, 1px);\n",
       "  height: 1px;\n",
       "  margin: -1px;\n",
       "  overflow: hidden;\n",
       "  padding: 0;\n",
       "  position: absolute;\n",
       "  width: 1px;\n",
       "}\n",
       "\n",
       "#sk-container-id-2 div.sk-dashed-wrapped {\n",
       "  border: 1px dashed var(--sklearn-color-line);\n",
       "  margin: 0 0.4em 0.5em 0.4em;\n",
       "  box-sizing: border-box;\n",
       "  padding-bottom: 0.4em;\n",
       "  background-color: var(--sklearn-color-background);\n",
       "}\n",
       "\n",
       "#sk-container-id-2 div.sk-container {\n",
       "  /* jupyter's `normalize.less` sets `[hidden] { display: none; }`\n",
       "     but bootstrap.min.css set `[hidden] { display: none !important; }`\n",
       "     so we also need the `!important` here to be able to override the\n",
       "     default hidden behavior on the sphinx rendered scikit-learn.org.\n",
       "     See: https://github.com/scikit-learn/scikit-learn/issues/21755 */\n",
       "  display: inline-block !important;\n",
       "  position: relative;\n",
       "}\n",
       "\n",
       "#sk-container-id-2 div.sk-text-repr-fallback {\n",
       "  display: none;\n",
       "}\n",
       "\n",
       "div.sk-parallel-item,\n",
       "div.sk-serial,\n",
       "div.sk-item {\n",
       "  /* draw centered vertical line to link estimators */\n",
       "  background-image: linear-gradient(var(--sklearn-color-text-on-default-background), var(--sklearn-color-text-on-default-background));\n",
       "  background-size: 2px 100%;\n",
       "  background-repeat: no-repeat;\n",
       "  background-position: center center;\n",
       "}\n",
       "\n",
       "/* Parallel-specific style estimator block */\n",
       "\n",
       "#sk-container-id-2 div.sk-parallel-item::after {\n",
       "  content: \"\";\n",
       "  width: 100%;\n",
       "  border-bottom: 2px solid var(--sklearn-color-text-on-default-background);\n",
       "  flex-grow: 1;\n",
       "}\n",
       "\n",
       "#sk-container-id-2 div.sk-parallel {\n",
       "  display: flex;\n",
       "  align-items: stretch;\n",
       "  justify-content: center;\n",
       "  background-color: var(--sklearn-color-background);\n",
       "  position: relative;\n",
       "}\n",
       "\n",
       "#sk-container-id-2 div.sk-parallel-item {\n",
       "  display: flex;\n",
       "  flex-direction: column;\n",
       "}\n",
       "\n",
       "#sk-container-id-2 div.sk-parallel-item:first-child::after {\n",
       "  align-self: flex-end;\n",
       "  width: 50%;\n",
       "}\n",
       "\n",
       "#sk-container-id-2 div.sk-parallel-item:last-child::after {\n",
       "  align-self: flex-start;\n",
       "  width: 50%;\n",
       "}\n",
       "\n",
       "#sk-container-id-2 div.sk-parallel-item:only-child::after {\n",
       "  width: 0;\n",
       "}\n",
       "\n",
       "/* Serial-specific style estimator block */\n",
       "\n",
       "#sk-container-id-2 div.sk-serial {\n",
       "  display: flex;\n",
       "  flex-direction: column;\n",
       "  align-items: center;\n",
       "  background-color: var(--sklearn-color-background);\n",
       "  padding-right: 1em;\n",
       "  padding-left: 1em;\n",
       "}\n",
       "\n",
       "\n",
       "/* Toggleable style: style used for estimator/Pipeline/ColumnTransformer box that is\n",
       "clickable and can be expanded/collapsed.\n",
       "- Pipeline and ColumnTransformer use this feature and define the default style\n",
       "- Estimators will overwrite some part of the style using the `sk-estimator` class\n",
       "*/\n",
       "\n",
       "/* Pipeline and ColumnTransformer style (default) */\n",
       "\n",
       "#sk-container-id-2 div.sk-toggleable {\n",
       "  /* Default theme specific background. It is overwritten whether we have a\n",
       "  specific estimator or a Pipeline/ColumnTransformer */\n",
       "  background-color: var(--sklearn-color-background);\n",
       "}\n",
       "\n",
       "/* Toggleable label */\n",
       "#sk-container-id-2 label.sk-toggleable__label {\n",
       "  cursor: pointer;\n",
       "  display: flex;\n",
       "  width: 100%;\n",
       "  margin-bottom: 0;\n",
       "  padding: 0.5em;\n",
       "  box-sizing: border-box;\n",
       "  text-align: center;\n",
       "  align-items: start;\n",
       "  justify-content: space-between;\n",
       "  gap: 0.5em;\n",
       "}\n",
       "\n",
       "#sk-container-id-2 label.sk-toggleable__label .caption {\n",
       "  font-size: 0.6rem;\n",
       "  font-weight: lighter;\n",
       "  color: var(--sklearn-color-text-muted);\n",
       "}\n",
       "\n",
       "#sk-container-id-2 label.sk-toggleable__label-arrow:before {\n",
       "  /* Arrow on the left of the label */\n",
       "  content: \"▸\";\n",
       "  float: left;\n",
       "  margin-right: 0.25em;\n",
       "  color: var(--sklearn-color-icon);\n",
       "}\n",
       "\n",
       "#sk-container-id-2 label.sk-toggleable__label-arrow:hover:before {\n",
       "  color: var(--sklearn-color-text);\n",
       "}\n",
       "\n",
       "/* Toggleable content - dropdown */\n",
       "\n",
       "#sk-container-id-2 div.sk-toggleable__content {\n",
       "  max-height: 0;\n",
       "  max-width: 0;\n",
       "  overflow: hidden;\n",
       "  text-align: left;\n",
       "  /* unfitted */\n",
       "  background-color: var(--sklearn-color-unfitted-level-0);\n",
       "}\n",
       "\n",
       "#sk-container-id-2 div.sk-toggleable__content.fitted {\n",
       "  /* fitted */\n",
       "  background-color: var(--sklearn-color-fitted-level-0);\n",
       "}\n",
       "\n",
       "#sk-container-id-2 div.sk-toggleable__content pre {\n",
       "  margin: 0.2em;\n",
       "  border-radius: 0.25em;\n",
       "  color: var(--sklearn-color-text);\n",
       "  /* unfitted */\n",
       "  background-color: var(--sklearn-color-unfitted-level-0);\n",
       "}\n",
       "\n",
       "#sk-container-id-2 div.sk-toggleable__content.fitted pre {\n",
       "  /* unfitted */\n",
       "  background-color: var(--sklearn-color-fitted-level-0);\n",
       "}\n",
       "\n",
       "#sk-container-id-2 input.sk-toggleable__control:checked~div.sk-toggleable__content {\n",
       "  /* Expand drop-down */\n",
       "  max-height: 200px;\n",
       "  max-width: 100%;\n",
       "  overflow: auto;\n",
       "}\n",
       "\n",
       "#sk-container-id-2 input.sk-toggleable__control:checked~label.sk-toggleable__label-arrow:before {\n",
       "  content: \"▾\";\n",
       "}\n",
       "\n",
       "/* Pipeline/ColumnTransformer-specific style */\n",
       "\n",
       "#sk-container-id-2 div.sk-label input.sk-toggleable__control:checked~label.sk-toggleable__label {\n",
       "  color: var(--sklearn-color-text);\n",
       "  background-color: var(--sklearn-color-unfitted-level-2);\n",
       "}\n",
       "\n",
       "#sk-container-id-2 div.sk-label.fitted input.sk-toggleable__control:checked~label.sk-toggleable__label {\n",
       "  background-color: var(--sklearn-color-fitted-level-2);\n",
       "}\n",
       "\n",
       "/* Estimator-specific style */\n",
       "\n",
       "/* Colorize estimator box */\n",
       "#sk-container-id-2 div.sk-estimator input.sk-toggleable__control:checked~label.sk-toggleable__label {\n",
       "  /* unfitted */\n",
       "  background-color: var(--sklearn-color-unfitted-level-2);\n",
       "}\n",
       "\n",
       "#sk-container-id-2 div.sk-estimator.fitted input.sk-toggleable__control:checked~label.sk-toggleable__label {\n",
       "  /* fitted */\n",
       "  background-color: var(--sklearn-color-fitted-level-2);\n",
       "}\n",
       "\n",
       "#sk-container-id-2 div.sk-label label.sk-toggleable__label,\n",
       "#sk-container-id-2 div.sk-label label {\n",
       "  /* The background is the default theme color */\n",
       "  color: var(--sklearn-color-text-on-default-background);\n",
       "}\n",
       "\n",
       "/* On hover, darken the color of the background */\n",
       "#sk-container-id-2 div.sk-label:hover label.sk-toggleable__label {\n",
       "  color: var(--sklearn-color-text);\n",
       "  background-color: var(--sklearn-color-unfitted-level-2);\n",
       "}\n",
       "\n",
       "/* Label box, darken color on hover, fitted */\n",
       "#sk-container-id-2 div.sk-label.fitted:hover label.sk-toggleable__label.fitted {\n",
       "  color: var(--sklearn-color-text);\n",
       "  background-color: var(--sklearn-color-fitted-level-2);\n",
       "}\n",
       "\n",
       "/* Estimator label */\n",
       "\n",
       "#sk-container-id-2 div.sk-label label {\n",
       "  font-family: monospace;\n",
       "  font-weight: bold;\n",
       "  display: inline-block;\n",
       "  line-height: 1.2em;\n",
       "}\n",
       "\n",
       "#sk-container-id-2 div.sk-label-container {\n",
       "  text-align: center;\n",
       "}\n",
       "\n",
       "/* Estimator-specific */\n",
       "#sk-container-id-2 div.sk-estimator {\n",
       "  font-family: monospace;\n",
       "  border: 1px dotted var(--sklearn-color-border-box);\n",
       "  border-radius: 0.25em;\n",
       "  box-sizing: border-box;\n",
       "  margin-bottom: 0.5em;\n",
       "  /* unfitted */\n",
       "  background-color: var(--sklearn-color-unfitted-level-0);\n",
       "}\n",
       "\n",
       "#sk-container-id-2 div.sk-estimator.fitted {\n",
       "  /* fitted */\n",
       "  background-color: var(--sklearn-color-fitted-level-0);\n",
       "}\n",
       "\n",
       "/* on hover */\n",
       "#sk-container-id-2 div.sk-estimator:hover {\n",
       "  /* unfitted */\n",
       "  background-color: var(--sklearn-color-unfitted-level-2);\n",
       "}\n",
       "\n",
       "#sk-container-id-2 div.sk-estimator.fitted:hover {\n",
       "  /* fitted */\n",
       "  background-color: var(--sklearn-color-fitted-level-2);\n",
       "}\n",
       "\n",
       "/* Specification for estimator info (e.g. \"i\" and \"?\") */\n",
       "\n",
       "/* Common style for \"i\" and \"?\" */\n",
       "\n",
       ".sk-estimator-doc-link,\n",
       "a:link.sk-estimator-doc-link,\n",
       "a:visited.sk-estimator-doc-link {\n",
       "  float: right;\n",
       "  font-size: smaller;\n",
       "  line-height: 1em;\n",
       "  font-family: monospace;\n",
       "  background-color: var(--sklearn-color-background);\n",
       "  border-radius: 1em;\n",
       "  height: 1em;\n",
       "  width: 1em;\n",
       "  text-decoration: none !important;\n",
       "  margin-left: 0.5em;\n",
       "  text-align: center;\n",
       "  /* unfitted */\n",
       "  border: var(--sklearn-color-unfitted-level-1) 1pt solid;\n",
       "  color: var(--sklearn-color-unfitted-level-1);\n",
       "}\n",
       "\n",
       ".sk-estimator-doc-link.fitted,\n",
       "a:link.sk-estimator-doc-link.fitted,\n",
       "a:visited.sk-estimator-doc-link.fitted {\n",
       "  /* fitted */\n",
       "  border: var(--sklearn-color-fitted-level-1) 1pt solid;\n",
       "  color: var(--sklearn-color-fitted-level-1);\n",
       "}\n",
       "\n",
       "/* On hover */\n",
       "div.sk-estimator:hover .sk-estimator-doc-link:hover,\n",
       ".sk-estimator-doc-link:hover,\n",
       "div.sk-label-container:hover .sk-estimator-doc-link:hover,\n",
       ".sk-estimator-doc-link:hover {\n",
       "  /* unfitted */\n",
       "  background-color: var(--sklearn-color-unfitted-level-3);\n",
       "  color: var(--sklearn-color-background);\n",
       "  text-decoration: none;\n",
       "}\n",
       "\n",
       "div.sk-estimator.fitted:hover .sk-estimator-doc-link.fitted:hover,\n",
       ".sk-estimator-doc-link.fitted:hover,\n",
       "div.sk-label-container:hover .sk-estimator-doc-link.fitted:hover,\n",
       ".sk-estimator-doc-link.fitted:hover {\n",
       "  /* fitted */\n",
       "  background-color: var(--sklearn-color-fitted-level-3);\n",
       "  color: var(--sklearn-color-background);\n",
       "  text-decoration: none;\n",
       "}\n",
       "\n",
       "/* Span, style for the box shown on hovering the info icon */\n",
       ".sk-estimator-doc-link span {\n",
       "  display: none;\n",
       "  z-index: 9999;\n",
       "  position: relative;\n",
       "  font-weight: normal;\n",
       "  right: .2ex;\n",
       "  padding: .5ex;\n",
       "  margin: .5ex;\n",
       "  width: min-content;\n",
       "  min-width: 20ex;\n",
       "  max-width: 50ex;\n",
       "  color: var(--sklearn-color-text);\n",
       "  box-shadow: 2pt 2pt 4pt #999;\n",
       "  /* unfitted */\n",
       "  background: var(--sklearn-color-unfitted-level-0);\n",
       "  border: .5pt solid var(--sklearn-color-unfitted-level-3);\n",
       "}\n",
       "\n",
       ".sk-estimator-doc-link.fitted span {\n",
       "  /* fitted */\n",
       "  background: var(--sklearn-color-fitted-level-0);\n",
       "  border: var(--sklearn-color-fitted-level-3);\n",
       "}\n",
       "\n",
       ".sk-estimator-doc-link:hover span {\n",
       "  display: block;\n",
       "}\n",
       "\n",
       "/* \"?\"-specific style due to the `<a>` HTML tag */\n",
       "\n",
       "#sk-container-id-2 a.estimator_doc_link {\n",
       "  float: right;\n",
       "  font-size: 1rem;\n",
       "  line-height: 1em;\n",
       "  font-family: monospace;\n",
       "  background-color: var(--sklearn-color-background);\n",
       "  border-radius: 1rem;\n",
       "  height: 1rem;\n",
       "  width: 1rem;\n",
       "  text-decoration: none;\n",
       "  /* unfitted */\n",
       "  color: var(--sklearn-color-unfitted-level-1);\n",
       "  border: var(--sklearn-color-unfitted-level-1) 1pt solid;\n",
       "}\n",
       "\n",
       "#sk-container-id-2 a.estimator_doc_link.fitted {\n",
       "  /* fitted */\n",
       "  border: var(--sklearn-color-fitted-level-1) 1pt solid;\n",
       "  color: var(--sklearn-color-fitted-level-1);\n",
       "}\n",
       "\n",
       "/* On hover */\n",
       "#sk-container-id-2 a.estimator_doc_link:hover {\n",
       "  /* unfitted */\n",
       "  background-color: var(--sklearn-color-unfitted-level-3);\n",
       "  color: var(--sklearn-color-background);\n",
       "  text-decoration: none;\n",
       "}\n",
       "\n",
       "#sk-container-id-2 a.estimator_doc_link.fitted:hover {\n",
       "  /* fitted */\n",
       "  background-color: var(--sklearn-color-fitted-level-3);\n",
       "}\n",
       "</style><div id=\"sk-container-id-2\" class=\"sk-top-container\"><div class=\"sk-text-repr-fallback\"><pre>GridSearchCV(cv=5,\n",
       "             estimator=AdaBoostClassifier(estimator=DecisionTreeClassifier(max_depth=2),\n",
       "                                          n_estimators=500),\n",
       "             n_jobs=7,\n",
       "             param_grid={&#x27;estimator__criterion&#x27;: [&#x27;gini&#x27;, &#x27;entropy&#x27;],\n",
       "                         &#x27;estimator__max_depth&#x27;: [1, 2],\n",
       "                         &#x27;estimator__max_features&#x27;: [7, 8],\n",
       "                         &#x27;learning_rate&#x27;: [0.4, 0.45, 0.5, 0.55, 0.6],\n",
       "                         &#x27;n_estimators&#x27;: [23, 24, 25, 26, 27]})</pre><b>In a Jupyter environment, please rerun this cell to show the HTML representation or trust the notebook. <br />On GitHub, the HTML representation is unable to render, please try loading this page with nbviewer.org.</b></div><div class=\"sk-container\" hidden><div class=\"sk-item sk-dashed-wrapped\"><div class=\"sk-label-container\"><div class=\"sk-label fitted sk-toggleable\"><input class=\"sk-toggleable__control sk-hidden--visually\" id=\"sk-estimator-id-5\" type=\"checkbox\" ><label for=\"sk-estimator-id-5\" class=\"sk-toggleable__label fitted sk-toggleable__label-arrow\"><div><div>GridSearchCV</div></div><div><a class=\"sk-estimator-doc-link fitted\" rel=\"noreferrer\" target=\"_blank\" href=\"https://scikit-learn.org/1.6/modules/generated/sklearn.model_selection.GridSearchCV.html\">?<span>Documentation for GridSearchCV</span></a><span class=\"sk-estimator-doc-link fitted\">i<span>Fitted</span></span></div></label><div class=\"sk-toggleable__content fitted\"><pre>GridSearchCV(cv=5,\n",
       "             estimator=AdaBoostClassifier(estimator=DecisionTreeClassifier(max_depth=2),\n",
       "                                          n_estimators=500),\n",
       "             n_jobs=7,\n",
       "             param_grid={&#x27;estimator__criterion&#x27;: [&#x27;gini&#x27;, &#x27;entropy&#x27;],\n",
       "                         &#x27;estimator__max_depth&#x27;: [1, 2],\n",
       "                         &#x27;estimator__max_features&#x27;: [7, 8],\n",
       "                         &#x27;learning_rate&#x27;: [0.4, 0.45, 0.5, 0.55, 0.6],\n",
       "                         &#x27;n_estimators&#x27;: [23, 24, 25, 26, 27]})</pre></div> </div></div><div class=\"sk-parallel\"><div class=\"sk-parallel-item\"><div class=\"sk-item\"><div class=\"sk-label-container\"><div class=\"sk-label fitted sk-toggleable\"><input class=\"sk-toggleable__control sk-hidden--visually\" id=\"sk-estimator-id-6\" type=\"checkbox\" ><label for=\"sk-estimator-id-6\" class=\"sk-toggleable__label fitted sk-toggleable__label-arrow\"><div><div>best_estimator_: AdaBoostClassifier</div></div></label><div class=\"sk-toggleable__content fitted\"><pre>AdaBoostClassifier(estimator=DecisionTreeClassifier(criterion=&#x27;entropy&#x27;,\n",
       "                                                    max_depth=2,\n",
       "                                                    max_features=7),\n",
       "                   learning_rate=0.6, n_estimators=27)</pre></div> </div></div><div class=\"sk-serial\"><div class=\"sk-item sk-dashed-wrapped\"><div class=\"sk-parallel\"><div class=\"sk-parallel-item\"><div class=\"sk-item\"><div class=\"sk-label-container\"><div class=\"sk-label fitted sk-toggleable\"><input class=\"sk-toggleable__control sk-hidden--visually\" id=\"sk-estimator-id-7\" type=\"checkbox\" ><label for=\"sk-estimator-id-7\" class=\"sk-toggleable__label fitted sk-toggleable__label-arrow\"><div><div>estimator: DecisionTreeClassifier</div></div></label><div class=\"sk-toggleable__content fitted\"><pre>DecisionTreeClassifier(criterion=&#x27;entropy&#x27;, max_depth=2, max_features=7)</pre></div> </div></div><div class=\"sk-serial\"><div class=\"sk-item\"><div class=\"sk-estimator fitted sk-toggleable\"><input class=\"sk-toggleable__control sk-hidden--visually\" id=\"sk-estimator-id-8\" type=\"checkbox\" ><label for=\"sk-estimator-id-8\" class=\"sk-toggleable__label fitted sk-toggleable__label-arrow\"><div><div>DecisionTreeClassifier</div></div><div><a class=\"sk-estimator-doc-link fitted\" rel=\"noreferrer\" target=\"_blank\" href=\"https://scikit-learn.org/1.6/modules/generated/sklearn.tree.DecisionTreeClassifier.html\">?<span>Documentation for DecisionTreeClassifier</span></a></div></label><div class=\"sk-toggleable__content fitted\"><pre>DecisionTreeClassifier(criterion=&#x27;entropy&#x27;, max_depth=2, max_features=7)</pre></div> </div></div></div></div></div></div></div></div></div></div></div></div></div></div>"
      ],
      "text/plain": [
       "GridSearchCV(cv=5,\n",
       "             estimator=AdaBoostClassifier(estimator=DecisionTreeClassifier(max_depth=2),\n",
       "                                          n_estimators=500),\n",
       "             n_jobs=7,\n",
       "             param_grid={'estimator__criterion': ['gini', 'entropy'],\n",
       "                         'estimator__max_depth': [1, 2],\n",
       "                         'estimator__max_features': [7, 8],\n",
       "                         'learning_rate': [0.4, 0.45, 0.5, 0.55, 0.6],\n",
       "                         'n_estimators': [23, 24, 25, 26, 27]})"
      ]
     },
     "execution_count": 86,
     "metadata": {},
     "output_type": "execute_result"
    }
   ],
   "source": [
    "from sklearn.model_selection import GridSearchCV\n",
    "grid = GridSearchCV(estimator=eclf, param_grid=params, cv=5, n_jobs=7)\n",
    "grid.fit(X, y)"
   ]
  },
  {
   "cell_type": "code",
   "execution_count": 87,
   "id": "d9b6ae78fe03ee22",
   "metadata": {
    "ExecuteTime": {
     "end_time": "2025-06-05T03:20:47.580502Z",
     "start_time": "2025-06-05T03:20:47.577324Z"
    }
   },
   "outputs": [
    {
     "name": "stdout",
     "output_type": "stream",
     "text": [
      "Best score: 0.8234304576905986\n",
      "Best params: {'estimator__criterion': 'entropy', 'estimator__max_depth': 2, 'estimator__max_features': 7, 'learning_rate': 0.6, 'n_estimators': 27}\n"
     ]
    }
   ],
   "source": [
    "print(\"Best score:\", grid.best_score_)\n",
    "print(\"Best params:\", grid.best_params_)"
   ]
  },
  {
   "cell_type": "code",
   "execution_count": 88,
   "id": "165e75d7d2a3d301",
   "metadata": {
    "ExecuteTime": {
     "end_time": "2025-06-05T03:22:00.107887Z",
     "start_time": "2025-06-05T03:22:00.095071Z"
    }
   },
   "outputs": [
    {
     "data": {
      "text/plain": [
       "array([0.14451155, 0.04439731, 0.02929276, 0.09842972, 0.18971156,\n",
       "       0.19660184, 0.04529486, 0.01176282, 0.00040079, 0.        ,\n",
       "       0.        , 0.        , 0.        , 0.12517506, 0.0016739 ,\n",
       "       0.0280196 , 0.02467424, 0.00359388, 0.02328443, 0.        ,\n",
       "       0.02102152, 0.        , 0.0053706 , 0.00325227, 0.        ,\n",
       "       0.00178791, 0.00174339])"
      ]
     },
     "execution_count": 88,
     "metadata": {},
     "output_type": "execute_result"
    }
   ],
   "source": [
    "grid.best_estimator_.feature_importances_"
   ]
  },
  {
   "cell_type": "code",
   "execution_count": null,
   "id": "bce1505319a0ef39",
   "metadata": {},
   "outputs": [],
   "source": []
  }
 ],
 "metadata": {
  "kernelspec": {
   "display_name": "base",
   "language": "python",
   "name": "python3"
  },
  "language_info": {
   "codemirror_mode": {
    "name": "ipython",
    "version": 2
   },
   "file_extension": ".py",
   "mimetype": "text/x-python",
   "name": "python",
   "nbconvert_exporter": "python",
   "pygments_lexer": "ipython2",
   "version": "3.11.8"
  }
 },
 "nbformat": 4,
 "nbformat_minor": 5
}
